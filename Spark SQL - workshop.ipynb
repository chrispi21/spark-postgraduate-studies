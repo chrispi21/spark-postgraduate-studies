{
 "cells": [
  {
   "cell_type": "markdown",
   "metadata": {
    "application/vnd.databricks.v1+cell": {
     "cellMetadata": {},
     "inputWidgets": {},
     "nuid": "0278def6-b297-4236-bb54-8a948da30a0a",
     "showTitle": false,
     "title": ""
    }
   },
   "source": [
    "# Zapytania dot. metadanych \n",
    "W pracy z danymi często zachodzi potrzeba, aby sprawdzić w jaki sposób przechowywane są dane (typy kolumn w tabeli, partycje, format plików, dostępne bazy danych). Aby ułatwić nam to zadanie zapoznamy się z odpowiednimi poleceniami."
   ]
  },
  {
   "cell_type": "markdown",
   "metadata": {
    "application/vnd.databricks.v1+cell": {
     "cellMetadata": {},
     "inputWidgets": {},
     "nuid": "ce4d7561-74ae-4fb6-a3b0-099e57ca358b",
     "showTitle": false,
     "title": ""
    }
   },
   "source": [
    "Polecenia dot. baz:\n",
    "\n",
    "1. `show databases` - wyświetla dostępne bazy\n",
    "2. `describe database` nazwa_bazy - opis bazy o nazwie nazwa_bazy\n",
    "3. `create database` nazwa_bazu - tworzenie nawej bazy o nazwie nazwa_bazy\n",
    "4. `drop database` nazwa_bazy - usuwanie bazy o nazwie nazwa_bazy\n",
    "\n",
    "W następnych komórkach można samodzielnie zapoznać się z wynikami tych funkcji"
   ]
  },
  {
   "cell_type": "code",
   "execution_count": 0,
   "metadata": {
    "application/vnd.databricks.v1+cell": {
     "cellMetadata": {
      "byteLimit": 2048000,
      "rowLimit": 10000
     },
     "inputWidgets": {},
     "nuid": "47e1fb88-28e8-496a-a1e3-b0406b2df9b6",
     "showTitle": false,
     "title": ""
    }
   },
   "outputs": [],
   "source": [
    "show databases"
   ]
  },
  {
   "cell_type": "code",
   "execution_count": 0,
   "metadata": {
    "application/vnd.databricks.v1+cell": {
     "cellMetadata": {
      "byteLimit": 2048000,
      "rowLimit": 10000
     },
     "inputWidgets": {},
     "nuid": "3c78a05b-3385-4532-a52f-719326b62284",
     "showTitle": false,
     "title": ""
    }
   },
   "outputs": [],
   "source": [
    "describe database default"
   ]
  },
  {
   "cell_type": "code",
   "execution_count": 0,
   "metadata": {
    "application/vnd.databricks.v1+cell": {
     "cellMetadata": {
      "byteLimit": 2048000,
      "rowLimit": 10000
     },
     "inputWidgets": {},
     "nuid": "4a661f13-5ec3-409a-b701-cc70dc847289",
     "showTitle": false,
     "title": ""
    }
   },
   "outputs": [],
   "source": [
    "create database test;"
   ]
  },
  {
   "cell_type": "code",
   "execution_count": 0,
   "metadata": {
    "application/vnd.databricks.v1+cell": {
     "cellMetadata": {
      "byteLimit": 2048000,
      "rowLimit": 10000
     },
     "inputWidgets": {},
     "nuid": "6f4ede0b-4676-40d9-87ba-8b9926583f5e",
     "showTitle": false,
     "title": ""
    }
   },
   "outputs": [],
   "source": [
    "show databases;"
   ]
  },
  {
   "cell_type": "code",
   "execution_count": 0,
   "metadata": {
    "application/vnd.databricks.v1+cell": {
     "cellMetadata": {
      "byteLimit": 2048000,
      "rowLimit": 10000
     },
     "inputWidgets": {},
     "nuid": "11140b49-3be6-4cbe-a503-dd6b9ff870d3",
     "showTitle": false,
     "title": ""
    }
   },
   "outputs": [],
   "source": [
    "drop database test;"
   ]
  },
  {
   "cell_type": "markdown",
   "metadata": {
    "application/vnd.databricks.v1+cell": {
     "cellMetadata": {},
     "inputWidgets": {},
     "nuid": "f5830352-b9e2-485e-8a29-4e4d65a57fc9",
     "showTitle": false,
     "title": ""
    }
   },
   "source": [
    "Polecenia dot. tabel:\n",
    "1. `show tables` [in nazwa_bazy] - wyświetla tabele w domyślnie wybranej bazie (opcjonalnie po `in` można podać inną bazę)\n",
    "2. `show create table` nazwa_tabeli - wyświetla skrypt tworzący tabelę nazwa_tabeli\n",
    "3. `show columns in` nazwa_tabeli - wyświetla kolumny w tabeli nazwa_tabeli\n",
    "4. `show partitions` nazwa_tabeli - wyświetla partycje w tabeli partycjonowanej\n",
    "5. `show tblproperties` - wyświetla właściwości tabeli\n",
    "6. `describe table` - wyświetla opis tabeli\n",
    "\n",
    "W następnych komórkach można samodzielnie zapoznać się z wynikami tych funkcji"
   ]
  },
  {
   "cell_type": "code",
   "execution_count": 0,
   "metadata": {
    "application/vnd.databricks.v1+cell": {
     "cellMetadata": {
      "byteLimit": 2048000,
      "rowLimit": 10000
     },
     "inputWidgets": {},
     "nuid": "ad99a6a4-a8dd-4ce6-8a22-af937fd0f232",
     "showTitle": false,
     "title": ""
    }
   },
   "outputs": [],
   "source": [
    "show tables"
   ]
  },
  {
   "cell_type": "code",
   "execution_count": 0,
   "metadata": {
    "application/vnd.databricks.v1+cell": {
     "cellMetadata": {
      "byteLimit": 2048000,
      "rowLimit": 10000
     },
     "inputWidgets": {},
     "nuid": "5459a5ce-fbec-43c3-b5d0-5ba4ace44e51",
     "showTitle": false,
     "title": ""
    }
   },
   "outputs": [],
   "source": [
    "show tables in default"
   ]
  },
  {
   "cell_type": "code",
   "execution_count": 0,
   "metadata": {
    "application/vnd.databricks.v1+cell": {
     "cellMetadata": {
      "byteLimit": 2048000,
      "rowLimit": 10000
     },
     "inputWidgets": {},
     "nuid": "dcd097b5-abd0-4f5a-9cf2-409d0770ac5d",
     "showTitle": false,
     "title": ""
    }
   },
   "outputs": [],
   "source": [
    "show create table uam_categories;"
   ]
  },
  {
   "cell_type": "markdown",
   "metadata": {
    "application/vnd.databricks.v1+cell": {
     "cellMetadata": {},
     "inputWidgets": {},
     "nuid": "80f95d94-5af0-44f6-a4e8-3f7f509b84a3",
     "showTitle": false,
     "title": ""
    }
   },
   "source": [
    "Możemy skorzystać z nazwy schematu, jeśli tabela znajduje się w innym schemacie niż domyślny."
   ]
  },
  {
   "cell_type": "code",
   "execution_count": 0,
   "metadata": {
    "application/vnd.databricks.v1+cell": {
     "cellMetadata": {
      "byteLimit": 2048000,
      "rowLimit": 10000
     },
     "inputWidgets": {},
     "nuid": "25b61a30-5e37-45e6-8e6c-75f5f99a0958",
     "showTitle": false,
     "title": ""
    }
   },
   "outputs": [],
   "source": [
    "show create table default.uam_categories;"
   ]
  },
  {
   "cell_type": "code",
   "execution_count": 0,
   "metadata": {
    "application/vnd.databricks.v1+cell": {
     "cellMetadata": {
      "byteLimit": 2048000,
      "rowLimit": 10000
     },
     "inputWidgets": {},
     "nuid": "e34aa1fd-05fa-4678-8c41-5378bd8afe13",
     "showTitle": false,
     "title": ""
    }
   },
   "outputs": [],
   "source": [
    "show columns in uam_categories;"
   ]
  },
  {
   "cell_type": "markdown",
   "metadata": {
    "application/vnd.databricks.v1+cell": {
     "cellMetadata": {},
     "inputWidgets": {},
     "nuid": "3e2dba64-7bfd-41ff-aa9c-d50b4e6d54d2",
     "showTitle": false,
     "title": ""
    }
   },
   "source": [
    "Żadna z tabel nie jest partycjonowana, więc poniższe polecenie zakończy się błędem"
   ]
  },
  {
   "cell_type": "code",
   "execution_count": 0,
   "metadata": {
    "application/vnd.databricks.v1+cell": {
     "cellMetadata": {
      "byteLimit": 2048000,
      "rowLimit": 10000
     },
     "inputWidgets": {},
     "nuid": "f7126245-cd80-4c18-a326-55fb38765926",
     "showTitle": false,
     "title": ""
    }
   },
   "outputs": [],
   "source": [
    "show partitions uam_categories"
   ]
  },
  {
   "cell_type": "code",
   "execution_count": 0,
   "metadata": {
    "application/vnd.databricks.v1+cell": {
     "cellMetadata": {
      "byteLimit": 2048000,
      "rowLimit": 10000
     },
     "inputWidgets": {},
     "nuid": "59cedb75-bbcf-4f35-9c4e-06e1180803ee",
     "showTitle": false,
     "title": ""
    }
   },
   "outputs": [],
   "source": [
    "show tblproperties uam_categories"
   ]
  },
  {
   "cell_type": "code",
   "execution_count": 0,
   "metadata": {
    "application/vnd.databricks.v1+cell": {
     "cellMetadata": {
      "byteLimit": 2048000,
      "rowLimit": 10000
     },
     "inputWidgets": {},
     "nuid": "47c14627-2e30-4726-9b3c-9cb01e752ec2",
     "showTitle": false,
     "title": ""
    }
   },
   "outputs": [],
   "source": [
    "describe uam_categories"
   ]
  },
  {
   "cell_type": "markdown",
   "metadata": {
    "application/vnd.databricks.v1+cell": {
     "cellMetadata": {},
     "inputWidgets": {},
     "nuid": "873adf5a-843c-43bc-84a5-90c20303e823",
     "showTitle": false,
     "title": ""
    }
   },
   "source": [
    "`desc` jest aliasem `describe`"
   ]
  },
  {
   "cell_type": "code",
   "execution_count": 0,
   "metadata": {
    "application/vnd.databricks.v1+cell": {
     "cellMetadata": {
      "byteLimit": 2048000,
      "rowLimit": 10000
     },
     "inputWidgets": {},
     "nuid": "c6a0eaae-5f17-4578-a342-b113419b7d16",
     "showTitle": false,
     "title": ""
    }
   },
   "outputs": [],
   "source": [
    "desc uam_categories"
   ]
  },
  {
   "cell_type": "markdown",
   "metadata": {
    "application/vnd.databricks.v1+cell": {
     "cellMetadata": {},
     "inputWidgets": {},
     "nuid": "6049b451-1031-43c8-b9c6-ebecdcbd406b",
     "showTitle": false,
     "title": ""
    }
   },
   "source": [
    "Teraz możemy zapoznać się, co zawierają tabele umieszczone w bazie *default*. Do dyspozycji mamy uproszczone schematy 3 tabel opisujące podstawowe byty serwisu aukcyjnego:\n",
    "1. *uam_categories* - kategorie, w których znajdują się oferty (*uam_offers*)\n",
    "2. *uam_offers* - dostępne oferty\n",
    "3. *uam_orders* - złożone zamówienia\n",
    "\n",
    "Znaczenie poszczególnych kolumn będzie wyjaśnione w trakcie następnych części kursu"
   ]
  },
  {
   "cell_type": "code",
   "execution_count": 0,
   "metadata": {
    "application/vnd.databricks.v1+cell": {
     "cellMetadata": {
      "byteLimit": 2048000,
      "rowLimit": 10000
     },
     "inputWidgets": {},
     "nuid": "27791b88-1318-43e9-933d-83580b929b2e",
     "showTitle": false,
     "title": ""
    }
   },
   "outputs": [],
   "source": [
    "desc uam_categories"
   ]
  },
  {
   "cell_type": "code",
   "execution_count": 0,
   "metadata": {
    "application/vnd.databricks.v1+cell": {
     "cellMetadata": {
      "byteLimit": 2048000,
      "rowLimit": 10000
     },
     "inputWidgets": {},
     "nuid": "f6213de7-1d1a-412a-af6d-65905b93ef50",
     "showTitle": false,
     "title": ""
    }
   },
   "outputs": [],
   "source": [
    "desc uam_offers"
   ]
  },
  {
   "cell_type": "code",
   "execution_count": 0,
   "metadata": {
    "application/vnd.databricks.v1+cell": {
     "cellMetadata": {
      "byteLimit": 2048000,
      "rowLimit": 10000
     },
     "inputWidgets": {},
     "nuid": "f421b797-cf0b-4f36-b1c4-55253c56dd7e",
     "showTitle": false,
     "title": ""
    }
   },
   "outputs": [],
   "source": [
    "desc uam_orders"
   ]
  },
  {
   "cell_type": "markdown",
   "metadata": {
    "application/vnd.databricks.v1+cell": {
     "cellMetadata": {},
     "inputWidgets": {},
     "nuid": "0e62f239-561a-4746-a568-0a656e8daa4c",
     "showTitle": false,
     "title": ""
    }
   },
   "source": [
    "# Klauzula SELECT\n",
    "\n",
    "Za pomocą polecenie `SELECT` będziemy odpytywać nasze tabele. Składnia polecenie Spark SQL nie różni się znacząco od innych dialektów SQL:\n",
    "\n",
    "1. `SELECT`  - projekcja, czyli wybranie kolumn, które ma zwracać zapytanie\n",
    "2. `FROM` - wskazanie relacji, z której odczytujemy dane\n",
    "3. `WHERE` - selekcja, czyli wybór odpowiednich wierszy\n",
    "4. `GROUP BY` - grupowanie\n",
    "5. `ORDER BY`/`SORT BY` - sortowanie (globalne)/sortowanie wewnątrz partycji danych\n",
    "6. `DISTRIBUTE BY` - repartycjonowanie po liście kolumn\n",
    "7. `CLUSTER BY` - skrót od DISTRIBUTE BY oraz SORT BY\n",
    "8. `WINDOW`  - funkcje def. okno (tzw. funkcje analityczne)\n",
    "9. `LIMIT` - ograniczenia liczby zwracanych wierszy\n",
    "\n",
    "W czasie zajęć pominiemy klauzule: `SORT BY`, `DISTRIBUTE BY` i `CLUSTER BY`.\n",
    "\n",
    "Docs: https://docs.gcp.databricks.com/sql/language-manual/sql-ref-syntax-qry-select.html"
   ]
  },
  {
   "cell_type": "markdown",
   "metadata": {
    "application/vnd.databricks.v1+cell": {
     "cellMetadata": {},
     "inputWidgets": {},
     "nuid": "1339869e-afc9-43d3-a200-60b8e8f8aca4",
     "showTitle": false,
     "title": ""
    }
   },
   "source": [
    "## Projekcja i selekcja - prosty przykład\n",
    "\n",
    "Znajdźmy wszystkie oferty (identyfikator, ilość oraz łączną cenę), których sprzedano więcej niż 10.\n",
    "\n",
    "Identyfikatorem jest kolumna *offer_id*, ilość znajduje się w kolumnie *quantity*, cena jednostkowa w kolumnie *unit_price*, zaś łączna cena w kolumnie *price* (*quantity* * *unit_price*)"
   ]
  },
  {
   "cell_type": "code",
   "execution_count": 0,
   "metadata": {
    "application/vnd.databricks.v1+cell": {
     "cellMetadata": {
      "byteLimit": 2048000,
      "rowLimit": 10000
     },
     "inputWidgets": {},
     "nuid": "ba806cec-ed6e-46d9-99c7-4fee5b9667fb",
     "showTitle": false,
     "title": ""
    }
   },
   "outputs": [],
   "source": [
    "select\n",
    "  offer_id,\n",
    "  quantity,\n",
    "  price as total\n",
    "from\n",
    "  uam_orders\n",
    "where\n",
    "  quantity > 10;"
   ]
  },
  {
   "cell_type": "markdown",
   "metadata": {
    "application/vnd.databricks.v1+cell": {
     "cellMetadata": {},
     "inputWidgets": {},
     "nuid": "2c1c7830-0945-465a-8085-777eb31c6568",
     "showTitle": false,
     "title": ""
    }
   },
   "source": [
    "Projekcja i selekcja - zadanie\n",
    "\n",
    "Znajdź wszystkie daty transakcji (`uam_orders.buyingTime`), gdzie cena przekracza 200 zł (`uam_orders.price`)"
   ]
  },
  {
   "cell_type": "code",
   "execution_count": 0,
   "metadata": {
    "application/vnd.databricks.v1+cell": {
     "cellMetadata": {},
     "inputWidgets": {},
     "nuid": "8780d258-db64-4831-9dd0-c9e120f42c6d",
     "showTitle": false,
     "title": ""
    }
   },
   "outputs": [],
   "source": []
  },
  {
   "cell_type": "markdown",
   "metadata": {
    "application/vnd.databricks.v1+cell": {
     "cellMetadata": {},
     "inputWidgets": {},
     "nuid": "3ad879f5-12ca-4079-a0e2-b4af5140191d",
     "showTitle": false,
     "title": ""
    }
   },
   "source": [
    "Rozwiązanie jest w ukrytej kolumnie poniżej"
   ]
  },
  {
   "cell_type": "code",
   "execution_count": 0,
   "metadata": {
    "application/vnd.databricks.v1+cell": {
     "cellMetadata": {},
     "inputWidgets": {},
     "nuid": "659d368d-5196-4008-b5ef-4af9fb1964b2",
     "showTitle": false,
     "title": ""
    }
   },
   "outputs": [],
   "source": [
    "select\n",
    "  buyingTime\n",
    "from\n",
    "  uam_orders\n",
    "where\n",
    "  price > 200;"
   ]
  },
  {
   "cell_type": "markdown",
   "metadata": {
    "application/vnd.databricks.v1+cell": {
     "cellMetadata": {},
     "inputWidgets": {},
     "nuid": "8c0c296a-5e00-4bd6-b735-e086c552fcfc",
     "showTitle": false,
     "title": ""
    }
   },
   "source": [
    "## Projekcja i selekcja - `lateral view`\n",
    "\n",
    "Klauzula `lateral view` służy do umieszczania elementów struktur złożonych (tablica, mapa) w osobnych wierszach. \n",
    "\n",
    "Załóżmy, że chcielibyśmy elementy poniższej tablicy umieścić w osobnych wierszach:"
   ]
  },
  {
   "cell_type": "code",
   "execution_count": 0,
   "metadata": {
    "application/vnd.databricks.v1+cell": {
     "cellMetadata": {
      "byteLimit": 2048000,
      "rowLimit": 10000
     },
     "inputWidgets": {},
     "nuid": "8a89d1f8-8037-4220-8e6f-0fc178ed818a",
     "showTitle": false,
     "title": ""
    }
   },
   "outputs": [],
   "source": [
    "select\n",
    "  array(1, 2, 3, 4) as arr"
   ]
  },
  {
   "cell_type": "markdown",
   "metadata": {
    "application/vnd.databricks.v1+cell": {
     "cellMetadata": {},
     "inputWidgets": {},
     "nuid": "2d748a1b-f66c-4bbb-8675-e1578ead4eb9",
     "showTitle": false,
     "title": ""
    }
   },
   "source": [
    "Możemy skorzystać z klauzuli `lateral view` i funkcji `explode`:"
   ]
  },
  {
   "cell_type": "code",
   "execution_count": 0,
   "metadata": {
    "application/vnd.databricks.v1+cell": {
     "cellMetadata": {
      "byteLimit": 2048000,
      "rowLimit": 10000
     },
     "inputWidgets": {},
     "nuid": "53ddc665-51a4-415e-a5e0-2f4943e4ad3e",
     "showTitle": false,
     "title": ""
    }
   },
   "outputs": [],
   "source": [
    "select\n",
    "  col\n",
    "from\n",
    "  lateral view explode(array(1, 2, 3, 4)) rel as col;"
   ]
  },
  {
   "cell_type": "markdown",
   "metadata": {
    "application/vnd.databricks.v1+cell": {
     "cellMetadata": {},
     "inputWidgets": {},
     "nuid": "a029b664-6e13-4bba-a177-6a26a4d2eaec",
     "showTitle": false,
     "title": ""
    }
   },
   "source": [
    "Lub wyłącznie z `explode`"
   ]
  },
  {
   "cell_type": "code",
   "execution_count": 0,
   "metadata": {
    "application/vnd.databricks.v1+cell": {
     "cellMetadata": {
      "byteLimit": 2048000,
      "rowLimit": 10000
     },
     "inputWidgets": {},
     "nuid": "1cfef6c6-efab-45ec-be1b-6f9fe7d72bd4",
     "showTitle": false,
     "title": ""
    }
   },
   "outputs": [],
   "source": [
    "select\n",
    "  explode(array(1, 2, 3, 4))"
   ]
  },
  {
   "cell_type": "markdown",
   "metadata": {
    "application/vnd.databricks.v1+cell": {
     "cellMetadata": {},
     "inputWidgets": {},
     "nuid": "bd38ded7-4249-4ca2-aaff-b09db06667e5",
     "showTitle": false,
     "title": ""
    }
   },
   "source": [
    "`lateral view` - przykład\n",
    "\n",
    "W tabeli *uam_offers* kolumna  *types* oznaczająca typ oferty jest typu *array < string >*\n",
    "\n",
    "Aby sprawdzić, wszystkie możliwe typy ofert możemy posłużyć się zapytaniem"
   ]
  },
  {
   "cell_type": "code",
   "execution_count": 0,
   "metadata": {
    "application/vnd.databricks.v1+cell": {
     "cellMetadata": {
      "byteLimit": 2048000,
      "rowLimit": 10000
     },
     "inputWidgets": {},
     "nuid": "0b584011-994a-4940-8582-2acd4313f71d",
     "showTitle": false,
     "title": ""
    }
   },
   "outputs": [],
   "source": [
    "select\n",
    "  distinct types\n",
    "from\n",
    "  uam_offers "
   ]
  },
  {
   "cell_type": "code",
   "execution_count": 0,
   "metadata": {
    "application/vnd.databricks.v1+cell": {
     "cellMetadata": {
      "byteLimit": 2048000,
      "rowLimit": 10000
     },
     "inputWidgets": {},
     "nuid": "04bd3546-703d-4430-ae95-adcf6640bd34",
     "showTitle": false,
     "title": ""
    }
   },
   "outputs": [],
   "source": [
    "select\n",
    "  distinct table_.col_\n",
    "from\n",
    "  uam_offers lateral view explode(types) table_ as col_"
   ]
  },
  {
   "cell_type": "markdown",
   "metadata": {
    "application/vnd.databricks.v1+cell": {
     "cellMetadata": {},
     "inputWidgets": {},
     "nuid": "9493772f-6a71-4ce1-b3d3-9a0dda770641",
     "showTitle": false,
     "title": ""
    }
   },
   "source": [
    "`lateral view` - zadanie\n",
    "\n",
    "Znajdź wszystkie oferty (identyfikator *offer_id*, nazwę *offer_name*), które posiadają typ AUCTION. Spróbuj rozwiązać zadanie korzystając z `lateral view`, a następnie bez tej funkcji (użyj `array_contains`). Zbiór wynikowy ogranicz do 10 rekordów (klauzula `LIMIT`)\n",
    "\n",
    "Podpowiedź: opis funkcji można sprawdzić poleceniem: `describe function array_contains`"
   ]
  },
  {
   "cell_type": "code",
   "execution_count": 0,
   "metadata": {
    "application/vnd.databricks.v1+cell": {
     "cellMetadata": {},
     "inputWidgets": {},
     "nuid": "12269ca5-53e1-4b91-ac95-5a7eb9ccadcc",
     "showTitle": false,
     "title": ""
    }
   },
   "outputs": [],
   "source": []
  },
  {
   "cell_type": "markdown",
   "metadata": {
    "application/vnd.databricks.v1+cell": {
     "cellMetadata": {},
     "inputWidgets": {},
     "nuid": "d3641f2c-7f4f-4ec9-934f-3fa68b35b49c",
     "showTitle": false,
     "title": ""
    }
   },
   "source": [
    "Rozwiązania znajdują się poniżej"
   ]
  },
  {
   "cell_type": "code",
   "execution_count": 0,
   "metadata": {
    "application/vnd.databricks.v1+cell": {
     "cellMetadata": {},
     "inputWidgets": {},
     "nuid": "e20a8aab-9a6f-496a-a2cb-658456e5bcda",
     "showTitle": false,
     "title": ""
    }
   },
   "outputs": [],
   "source": [
    "select\n",
    "  offer_id,\n",
    "  offer_name\n",
    "from\n",
    "  uam_offers lateral view explode(types) tab as col\n",
    "where\n",
    "  tab.col = 'AUCTION'\n",
    "LIMIT\n",
    "  10"
   ]
  },
  {
   "cell_type": "code",
   "execution_count": 0,
   "metadata": {
    "application/vnd.databricks.v1+cell": {
     "cellMetadata": {},
     "inputWidgets": {},
     "nuid": "4f66d718-7313-4b0b-967d-3c6b0e505f59",
     "showTitle": false,
     "title": ""
    }
   },
   "outputs": [],
   "source": [
    "select\n",
    "  offer_id,\n",
    "  offer_name\n",
    "from\n",
    "  uam_offers\n",
    "where\n",
    "  array_contains(types, 'AUCTION')\n",
    "limit\n",
    "  10;"
   ]
  },
  {
   "cell_type": "markdown",
   "metadata": {
    "application/vnd.databricks.v1+cell": {
     "cellMetadata": {},
     "inputWidgets": {},
     "nuid": "5cc9df6d-bf6e-4f01-a230-85c84a6bf626",
     "showTitle": false,
     "title": ""
    }
   },
   "source": [
    "## Funkcje wyższego rzędu (wyrażenia lambda)\n",
    "\n",
    "Dla wersji Spark począwszy od 2.4.0 dostępne są funkcje wyższego rzędu (`higher-order functions`), które ułatwiają prace z typami kolumn array i map ([docs](https://docs.databricks.com/delta/data-transformation/higher-order-lambda-functions.html#)).\n",
    "\n",
    "W przypadku, gdy chcielibyśmy zamienić wielkie litery na małe w *uam_offers.types*, możemy to zrobić następująco:"
   ]
  },
  {
   "cell_type": "code",
   "execution_count": 0,
   "metadata": {
    "application/vnd.databricks.v1+cell": {
     "cellMetadata": {
      "byteLimit": 2048000,
      "rowLimit": 10000
     },
     "inputWidgets": {},
     "nuid": "af08b995-7571-4b07-9184-b4d84dc2aa16",
     "showTitle": false,
     "title": ""
    }
   },
   "outputs": [],
   "source": [
    "select\n",
    "  offer_id,\n",
    "  types as original_types,\n",
    "  transform(types, x -> lower(x)) as lowercased_types\n",
    "from\n",
    "  uam_offers"
   ]
  },
  {
   "cell_type": "markdown",
   "metadata": {
    "application/vnd.databricks.v1+cell": {
     "cellMetadata": {},
     "inputWidgets": {},
     "nuid": "b50a2113-4977-401a-bfcd-8f2574c5fbca",
     "showTitle": false,
     "title": ""
    }
   },
   "source": [
    "Funkcja `transform` jako pierwszy argument przyjmuje tablicę a następnie funkcję anonimową, która określa rodzaj transformacji. W powyższym przypadku, każdy element tablicy jest przekształcany funkcją `lower`.\n",
    "\n",
    "\n",
    "Możemy również posłużyć się klauzulami `lateral_view` i `group by` (`group by` dokładniej umówimy później), ale rozwiązanie będzie znacznie mniej zwięzłe:"
   ]
  },
  {
   "cell_type": "code",
   "execution_count": 0,
   "metadata": {
    "application/vnd.databricks.v1+cell": {
     "cellMetadata": {
      "byteLimit": 2048000,
      "rowLimit": 10000
     },
     "inputWidgets": {},
     "nuid": "2f332bbc-e6b9-4375-b982-08a09a692c42",
     "showTitle": false,
     "title": ""
    }
   },
   "outputs": [],
   "source": [
    "select\n",
    "  offer_id,\n",
    "  collect_list(original_type) as original_types,\n",
    "  collect_list(lowercased_type) as lowercased_types\n",
    "from\n",
    "  (\n",
    "    select\n",
    "      offer_id,\n",
    "      type_column as original_type,\n",
    "      lower(type_column) as lowercased_type\n",
    "    from\n",
    "      uam_offers lateral view explode(types) exploded_type as type_column\n",
    "  )\n",
    "group by\n",
    "  offer_id"
   ]
  },
  {
   "cell_type": "markdown",
   "metadata": {
    "application/vnd.databricks.v1+cell": {
     "cellMetadata": {},
     "inputWidgets": {},
     "nuid": "26a57293-d551-4435-a444-a08838db6f64",
     "showTitle": false,
     "title": ""
    }
   },
   "source": [
    "Przydatne są też funkcje `exists` i `filter`. `exists` może być użyta w klauzuli WHERE do sprawdzenia, czy jakikolwiek element w tablicy spełnia warunek wyrażony funkcją."
   ]
  },
  {
   "cell_type": "markdown",
   "metadata": {
    "application/vnd.databricks.v1+cell": {
     "cellMetadata": {},
     "inputWidgets": {},
     "nuid": "19b1d5e0-0840-42cc-9053-482b403e97e3",
     "showTitle": false,
     "title": ""
    }
   },
   "source": [
    "Przykład - `exists`\n",
    "Policzymy oferty zawierające atrybut o nazwie (name) \"rozmiar\""
   ]
  },
  {
   "cell_type": "code",
   "execution_count": 0,
   "metadata": {
    "application/vnd.databricks.v1+cell": {
     "cellMetadata": {
      "byteLimit": 2048000,
      "rowLimit": 10000
     },
     "inputWidgets": {},
     "nuid": "be049a85-5846-4efe-b990-1fafcc9204a7",
     "showTitle": false,
     "title": ""
    }
   },
   "outputs": [],
   "source": [
    "desc uam_offers;"
   ]
  },
  {
   "cell_type": "code",
   "execution_count": 0,
   "metadata": {
    "application/vnd.databricks.v1+cell": {
     "cellMetadata": {
      "byteLimit": 2048000,
      "rowLimit": 10000
     },
     "inputWidgets": {},
     "nuid": "a4fada72-dc9f-459a-810d-42f7ecc5a17e",
     "showTitle": false,
     "title": ""
    }
   },
   "outputs": [],
   "source": [
    "select\n",
    "  count(*) -- attributes\n",
    "from\n",
    "  uam_offers\n",
    "where\n",
    "  exists(attributes, a -> a.name = \"rozmiar\");"
   ]
  },
  {
   "cell_type": "markdown",
   "metadata": {
    "application/vnd.databricks.v1+cell": {
     "cellMetadata": {},
     "inputWidgets": {},
     "nuid": "c92b0dd4-26fe-46ed-a7e5-877840bfe4bd",
     "showTitle": false,
     "title": ""
    }
   },
   "source": [
    "Funkcja `filter` umożliwia usunięcie zbędnych elementów z tablicy. Możemy ograniczyć wyświetlane atrybuty w ofertach do tych, które opisują stan:"
   ]
  },
  {
   "cell_type": "code",
   "execution_count": 0,
   "metadata": {
    "application/vnd.databricks.v1+cell": {
     "cellMetadata": {
      "byteLimit": 2048000,
      "rowLimit": 10000
     },
     "inputWidgets": {},
     "nuid": "df1b7336-7fd5-4936-8f29-08fd78fa5caa",
     "showTitle": false,
     "title": ""
    }
   },
   "outputs": [],
   "source": [
    "select filter(attributes, a -> a.name = \"stan\") from uam_offers;"
   ]
  },
  {
   "cell_type": "markdown",
   "metadata": {
    "application/vnd.databricks.v1+cell": {
     "cellMetadata": {},
     "inputWidgets": {},
     "nuid": "d94db441-692d-4b96-8010-3c10009ed5f2",
     "showTitle": false,
     "title": ""
    }
   },
   "source": [
    "Możemy również łączyć funkcje `explode` oraz wyższego rzędu (np. `exists`).\n",
    "\n",
    "Na przykład znajdźmy wszystkie oferty, które posiadają atrybut o nazwie \"stan\" i jedna z wartości tego atrybuty to \"nowy\". \n",
    "\n",
    "Poniższy kod jest mało czytelnej (wg mnie) i mało przypomina SQL, do którego jesteśmy przyzwyczajeni."
   ]
  },
  {
   "cell_type": "code",
   "execution_count": 0,
   "metadata": {
    "application/vnd.databricks.v1+cell": {
     "cellMetadata": {
      "byteLimit": 2048000,
      "rowLimit": 10000
     },
     "inputWidgets": {},
     "nuid": "6fe0f483-1665-4748-95d2-e659fb4eb4b9",
     "showTitle": false,
     "title": ""
    }
   },
   "outputs": [],
   "source": [
    "select\n",
    "  distinct offer_id\n",
    "from\n",
    "  uam_offers LATERAL VIEW explode(attributes) t as attrib\n",
    "WHERE\n",
    "  attrib.name = \"stan\"\n",
    "  and exists(attrib.`values`, v -> v = \"nowy\")"
   ]
  },
  {
   "cell_type": "markdown",
   "metadata": {
    "application/vnd.databricks.v1+cell": {
     "cellMetadata": {},
     "inputWidgets": {},
     "nuid": "87cf7c10-5bbb-4a51-8d8b-8d6b62de3bd6",
     "showTitle": false,
     "title": ""
    }
   },
   "source": [
    "Ćwiczenie\n",
    "Znajdź wszystkie oferty (identyfikator offer_id, nazwę offer_name), które posiadają typ AUCTION - tym razem używając `exists`"
   ]
  },
  {
   "cell_type": "markdown",
   "metadata": {
    "application/vnd.databricks.v1+cell": {
     "cellMetadata": {},
     "inputWidgets": {},
     "nuid": "1d04b431-e176-4ac6-a604-3106f2a05184",
     "showTitle": false,
     "title": ""
    }
   },
   "source": [
    "Rozwiązanie"
   ]
  },
  {
   "cell_type": "code",
   "execution_count": 0,
   "metadata": {
    "application/vnd.databricks.v1+cell": {
     "cellMetadata": {},
     "inputWidgets": {},
     "nuid": "5212c5f7-3ff6-4e72-9cd3-cbc6a6581718",
     "showTitle": false,
     "title": ""
    }
   },
   "outputs": [],
   "source": [
    "select\n",
    "  offer_id,\n",
    "  offer_name\n",
    "from\n",
    "  uam_offers\n",
    "where\n",
    "  exists(types, t -> t = \"AUCTION\")"
   ]
  },
  {
   "cell_type": "markdown",
   "metadata": {
    "application/vnd.databricks.v1+cell": {
     "cellMetadata": {},
     "inputWidgets": {},
     "nuid": "3027b7b9-f0c9-4d61-9e6c-ecc50c7d7b8c",
     "showTitle": false,
     "title": ""
    }
   },
   "source": [
    "## Operacje złączenia\n",
    "\n",
    "W następnej części zajmiemy się operacjami złączenia dostępnymi w Spark SQL:\n",
    "\n",
    "1. `Inner join` - rekordy z obydwu łącząnych tabel muszą spełniać warunek połączeniowy\n",
    "2. `Left outer join` - wszystkie rekordy z relacje po lewej stronie klauzuli są uwzględniane w zbiorze wynikowym i łączone są te z prawej strony, które spełniają warunek połączeniowy\n",
    "3. `Right outer join` - wszystkie rekordy z relacje po prawej stronie klauzuli są uwzględniane w zbiorze wynikowym i łączone są te z lewej strony, które spełniają warunek połączeniowy\n",
    "4. `Left semi join` - uwzględnia rekordy z lewej strony klauzuli, które spełniają warunek połączeniowy pomijając prawą tabelę w zbiorze wynikowym. Przy wielokrotnym złączeniu rekordów w zbiorze wynikowym umieszczany jest tylko jeden rekord\n",
    "5. `Right semi join` - analogicznie jak `left semi join` z tym, że tabele zamienione są stronami\n",
    "6. `Left anti join` - uwzględnia rekordy z lewej strony klauzuli, dla których nie istnieją łączące się rekordy z tabeli po prawej stronie\n",
    "7. `Natural join` - złączenie, które bazuje na takich samych nazwach kolumn w obydwu tabelach\n",
    "8. `Cross join` - iloczyn kartezjański tabel (brak warunków połączeniowych)"
   ]
  },
  {
   "cell_type": "markdown",
   "metadata": {
    "application/vnd.databricks.v1+cell": {
     "cellMetadata": {},
     "inputWidgets": {},
     "nuid": "790533c1-2c79-4a9b-9720-276c865ea240",
     "showTitle": false,
     "title": ""
    }
   },
   "source": [
    "Operacja złączenia (`join`) - przykład `INNER JOIN`, `NATURAL JOIN` i `LEFT SEMI JOIN`\n",
    "\n",
    "Sporządź zestawienie ofert sprzedanych danego dnia (identyfikator, nazwa). Wybierz tylko te oferty, które są droższe niż 200 zł.\n",
    "\n",
    "Uwagi:\n",
    "1. Warto zwrócić uwagę, że `SEMI JOIN` nie dubluje rekordów.\n",
    "2. Proszę spróbować usunąć `DISTINCT` z przykładów poniżej i porównać wyniki."
   ]
  },
  {
   "cell_type": "code",
   "execution_count": 0,
   "metadata": {
    "application/vnd.databricks.v1+cell": {
     "cellMetadata": {
      "byteLimit": 2048000,
      "rowLimit": 10000
     },
     "inputWidgets": {},
     "nuid": "2d239c1a-08e1-4f76-974d-c613b7093ac3",
     "showTitle": false,
     "title": ""
    }
   },
   "outputs": [],
   "source": [
    "select\n",
    "  distinct o.offer_id,\n",
    "  o.offer_name\n",
    "from\n",
    "  uam_offers o\n",
    "  join uam_orders t on o.offer_id = t.offer_id\n",
    "where\n",
    "  o.buynow_price > 200;"
   ]
  },
  {
   "cell_type": "code",
   "execution_count": 0,
   "metadata": {
    "application/vnd.databricks.v1+cell": {
     "cellMetadata": {
      "byteLimit": 2048000,
      "rowLimit": 10000
     },
     "inputWidgets": {},
     "nuid": "ce116432-30fd-4553-81f2-f1edfd716b1d",
     "showTitle": false,
     "title": ""
    }
   },
   "outputs": [],
   "source": [
    "select DISTINCT\n",
    "  o.offer_id,\n",
    "  o.offer_name\n",
    "from\n",
    "  uam_offers o\n",
    "  natural join uam_orders\n",
    "where\n",
    "  o.buynow_price > 200;"
   ]
  },
  {
   "cell_type": "code",
   "execution_count": 0,
   "metadata": {
    "application/vnd.databricks.v1+cell": {
     "cellMetadata": {
      "byteLimit": 2048000,
      "rowLimit": 10000
     },
     "inputWidgets": {},
     "nuid": "2531c1d6-f30f-4b13-b91c-1e43e5043a05",
     "showTitle": false,
     "title": ""
    }
   },
   "outputs": [],
   "source": [
    "select\n",
    "  o.offer_id,\n",
    "  o.offer_name\n",
    "from\n",
    "  uam_offers o \n",
    "  left semi join uam_orders t on o.offer_id = t.offer_id\n",
    "where\n",
    "  o.buynow_price > 200;"
   ]
  },
  {
   "cell_type": "markdown",
   "metadata": {
    "application/vnd.databricks.v1+cell": {
     "cellMetadata": {},
     "inputWidgets": {},
     "nuid": "0fe4bd36-a413-4615-b2f1-a15df4689ad0",
     "showTitle": false,
     "title": ""
    }
   },
   "source": [
    "Operacja złączenia - Przykład `LEFT/RIGHT OUTER JOIN` i `LEFT ANTI JOIN`\n",
    "\n",
    "Znajdźmy oferty tańsze niż 10 zł, które nie znalazły nabywcy?"
   ]
  },
  {
   "cell_type": "code",
   "execution_count": 0,
   "metadata": {
    "application/vnd.databricks.v1+cell": {
     "cellMetadata": {
      "byteLimit": 2048000,
      "rowLimit": 10000
     },
     "inputWidgets": {},
     "nuid": "a8c57129-3f78-4eef-9144-bf8fe6cf7b78",
     "showTitle": false,
     "title": ""
    }
   },
   "outputs": [],
   "source": [
    "select\n",
    "  *\n",
    "from\n",
    "  uam_offers o\n",
    "  left outer join uam_orders t on o.offer_id = t.offer_id\n",
    "where\n",
    "  t.offer_id is null\n",
    "  and o.buynow_price < 10\n",
    "limit\n",
    "  10;"
   ]
  },
  {
   "cell_type": "code",
   "execution_count": 0,
   "metadata": {
    "application/vnd.databricks.v1+cell": {
     "cellMetadata": {
      "byteLimit": 2048000,
      "rowLimit": 10000
     },
     "inputWidgets": {},
     "nuid": "2ac5d818-753c-4dfd-ac1a-5aec35622828",
     "showTitle": false,
     "title": ""
    }
   },
   "outputs": [],
   "source": [
    "select\n",
    "  o.offer_id,\n",
    "  o.offer_name\n",
    "from\n",
    "  uam_orders t\n",
    "  right outer join uam_offers o on o.offer_id = t.offer_id\n",
    "where\n",
    "  t.offer_id is null\n",
    "  and o.buynow_price < 10\n",
    "limit\n",
    "  10;"
   ]
  },
  {
   "cell_type": "code",
   "execution_count": 0,
   "metadata": {
    "application/vnd.databricks.v1+cell": {
     "cellMetadata": {
      "byteLimit": 2048000,
      "rowLimit": 10000
     },
     "inputWidgets": {},
     "nuid": "5d512260-7aa2-44d7-8cd0-4078457e2dee",
     "showTitle": false,
     "title": ""
    }
   },
   "outputs": [],
   "source": [
    "select\n",
    "  *\n",
    "from\n",
    "  uam_offers o \n",
    "  left anti join uam_orders t on o.offer_id = t.offer_id\n",
    "where\n",
    "  o.buynow_price < 10\n",
    "limit\n",
    "  10;"
   ]
  },
  {
   "cell_type": "markdown",
   "metadata": {
    "application/vnd.databricks.v1+cell": {
     "cellMetadata": {},
     "inputWidgets": {},
     "nuid": "8e578f99-f058-4211-9c8e-c91a9c8e03a6",
     "showTitle": false,
     "title": ""
    }
   },
   "source": [
    "Operacja złączenia (join) - ćwiczenie\n",
    "\n",
    "\n",
    "Czy istnieją kategorie bez ofert?"
   ]
  },
  {
   "cell_type": "code",
   "execution_count": 0,
   "metadata": {
    "application/vnd.databricks.v1+cell": {
     "cellMetadata": {},
     "inputWidgets": {},
     "nuid": "106e4875-9eef-4765-b940-9068e6a63315",
     "showTitle": false,
     "title": ""
    }
   },
   "outputs": [],
   "source": []
  },
  {
   "cell_type": "markdown",
   "metadata": {
    "application/vnd.databricks.v1+cell": {
     "cellMetadata": {},
     "inputWidgets": {},
     "nuid": "f64ab657-e53c-4997-965b-2b6bdf5739c0",
     "showTitle": false,
     "title": ""
    }
   },
   "source": [
    "Przykładowe rozwiązanie"
   ]
  },
  {
   "cell_type": "code",
   "execution_count": 0,
   "metadata": {
    "application/vnd.databricks.v1+cell": {
     "cellMetadata": {},
     "inputWidgets": {},
     "nuid": "f561f7eb-e338-49a3-af9c-e95c48328b06",
     "showTitle": false,
     "title": ""
    }
   },
   "outputs": [],
   "source": [
    "select\n",
    "  count(*)\n",
    "from\n",
    "  uam_categories c left anti\n",
    "  join uam_offers o on c.category_id = o.category_leaf\n",
    "limit\n",
    "  100;"
   ]
  },
  {
   "cell_type": "markdown",
   "metadata": {
    "application/vnd.databricks.v1+cell": {
     "cellMetadata": {},
     "inputWidgets": {},
     "nuid": "309c4ea9-0477-4044-a6f7-abe7ef46f6c9",
     "showTitle": false,
     "title": ""
    }
   },
   "source": [
    "## Grupowanie `group by`\n",
    "\n",
    "Klauzula działa analogicznie jak w innych dialektach SQL. \n",
    "\n",
    "\n",
    "Oto prosty przykład:\n",
    "\n",
    "Znajdź maksymalną i minimalną cenę (*buynow_price*) ofert w każdej z kategorii na 1. poziomie (*category_level1*)"
   ]
  },
  {
   "cell_type": "code",
   "execution_count": 0,
   "metadata": {
    "application/vnd.databricks.v1+cell": {
     "cellMetadata": {
      "byteLimit": 2048000,
      "rowLimit": 10000
     },
     "inputWidgets": {},
     "nuid": "374cdac6-22be-492e-9603-830973968f32",
     "showTitle": false,
     "title": ""
    }
   },
   "outputs": [],
   "source": [
    "select\n",
    "  c.category_level1,\n",
    "  min(cast(buynow_price as double)),\n",
    "  max(cast(buynow_price as double))\n",
    "from\n",
    "  uam_offers o\n",
    "  join uam_categories c on c.category_id = o.category_leaf\n",
    "group by\n",
    "  c.category_level1;"
   ]
  },
  {
   "cell_type": "markdown",
   "metadata": {
    "application/vnd.databricks.v1+cell": {
     "cellMetadata": {},
     "inputWidgets": {},
     "nuid": "fce4f2fb-123c-44dd-9de2-098dd4209913",
     "showTitle": false,
     "title": ""
    }
   },
   "source": [
    "Przejdźmy do bardziej zaawansowanego przykładu z wykorzystaniem klauzul `with rollup` oraz `grouping sets`:\n",
    "\n",
    "Znajdźmy maksymalną i minimalną cenę ofert w każdej z kategorii na 1. poziomie oraz na 1. i 2. poziomie kategorii oraz najtańszą i najdroższą ofertę. Posortujmy wyniki tak, aby podsumowania poszczególnych kategorii były na początku (zaczynając od globalnego podsumowania).\n",
    "\n",
    "Oto dwie propozycje rozwiązań:"
   ]
  },
  {
   "cell_type": "code",
   "execution_count": 0,
   "metadata": {
    "application/vnd.databricks.v1+cell": {
     "cellMetadata": {
      "byteLimit": 2048000,
      "rowLimit": 10000
     },
     "inputWidgets": {},
     "nuid": "e937537a-bf77-482a-af6e-8f9bdbf6d664",
     "showTitle": false,
     "title": ""
    }
   },
   "outputs": [],
   "source": [
    "select\n",
    "  c.category_level1,\n",
    "  c.category_level2,\n",
    "  min(cast(buynow_price as double)),\n",
    "  max(cast(buynow_price as double))\n",
    "from\n",
    "  uam_offers o\n",
    "  join uam_categories c on c.category_id = o.category_leaf\n",
    "group by\n",
    "  c.category_level1,\n",
    "  c.category_level2 with rollup\n",
    "order by\n",
    "  category_level1 nulls first,\n",
    "  category_level2 nulls first;"
   ]
  },
  {
   "cell_type": "code",
   "execution_count": 0,
   "metadata": {
    "application/vnd.databricks.v1+cell": {
     "cellMetadata": {
      "byteLimit": 2048000,
      "rowLimit": 10000
     },
     "inputWidgets": {},
     "nuid": "2ab1d312-ce6c-41c0-bab0-1bec022cfe8d",
     "showTitle": false,
     "title": ""
    }
   },
   "outputs": [],
   "source": [
    "select\n",
    "  c.category_level1,\n",
    "  c.category_level2,\n",
    "  min(cast(buynow_price as double)),\n",
    "  max(cast(buynow_price as double))\n",
    "from\n",
    "  uam_offers o\n",
    "  join uam_categories c on c.category_id = o.category_leaf\n",
    "group by\n",
    "  c.category_level1,\n",
    "  c.category_level2 grouping sets(\n",
    "    (),\n",
    "    (c.category_level1),\n",
    "    (c.category_level1, c.category_level2)\n",
    "  )\n",
    "order by\n",
    "  category_level1 nulls first,\n",
    "  category_level2 nulls first;"
   ]
  },
  {
   "cell_type": "markdown",
   "metadata": {
    "application/vnd.databricks.v1+cell": {
     "cellMetadata": {},
     "inputWidgets": {},
     "nuid": "2ab6f4f2-1648-4d39-b900-5a86285320b0",
     "showTitle": false,
     "title": ""
    }
   },
   "source": [
    "Klauzula `with rollup` pozwala na tworzenie podsumowań hierarchicznych na wszystkich poziomach zgodnie z kolejnością grupowania, natomiast `grouping sets` pozwala dowolnie tworzyć grupy podsumowań. Dostępna jest jeszcze klauzula `WITH CUBE`, ale tworzy ona wszystkie możliwe podsumowania, co nie ma sensu w naszym przypadku:"
   ]
  },
  {
   "cell_type": "code",
   "execution_count": 0,
   "metadata": {
    "application/vnd.databricks.v1+cell": {
     "cellMetadata": {
      "byteLimit": 2048000,
      "rowLimit": 10000
     },
     "inputWidgets": {},
     "nuid": "dde164f9-cc72-40ce-8746-d447d7c709f7",
     "showTitle": false,
     "title": ""
    }
   },
   "outputs": [],
   "source": [
    "select\n",
    "  c.category_level1,\n",
    "  c.category_level2,\n",
    "  min(cast(buynow_price as double)),\n",
    "  max(cast(buynow_price as double))\n",
    "from\n",
    "  uam_offers o\n",
    "  join uam_categories c on c.category_id = o.category_leaf\n",
    "group by\n",
    "  c.category_level1,\n",
    "  c.category_level2 with cube\n",
    "order by\n",
    "  category_level1 nulls first,\n",
    "  category_level2 nulls first;"
   ]
  },
  {
   "cell_type": "markdown",
   "metadata": {
    "application/vnd.databricks.v1+cell": {
     "cellMetadata": {},
     "inputWidgets": {},
     "nuid": "43c81d9a-edda-4edb-9816-f9b7f90f20fd",
     "showTitle": false,
     "title": ""
    }
   },
   "source": [
    "Funkcje `grouping_id` pomaga określić jakiemu poziomu agregacji odpowiada dany rekord. Funkcja `grouping` określa, czy wartość `null` jest wynikiem agregacji, czy została wyliczona dla wartości `null` znajdujących się w zbiorze wejściowym. Najlepiej ilustruje to poniższy przykład."
   ]
  },
  {
   "cell_type": "code",
   "execution_count": 0,
   "metadata": {
    "application/vnd.databricks.v1+cell": {
     "cellMetadata": {
      "byteLimit": 2048000,
      "rowLimit": 10000
     },
     "inputWidgets": {},
     "nuid": "eedb60ec-01c9-442f-b878-c38ddfc3e4a2",
     "showTitle": false,
     "title": ""
    }
   },
   "outputs": [],
   "source": [
    "select\n",
    "  c.category_level1,\n",
    "  c.category_level2,\n",
    "  min(cast(buynow_price as double)),\n",
    "  max(cast(buynow_price as double)),\n",
    "  grouping_id(),\n",
    "  grouping(c.category_level1),\n",
    "  grouping(c.category_level2)\n",
    "from\n",
    "  uam_offers o\n",
    "  join uam_categories c on c.category_id = o.category_leaf\n",
    "group by\n",
    "  c.category_level1,\n",
    "  c.category_level2 with rollup\n",
    "order by\n",
    "  category_level1 nulls first,\n",
    "  category_level2 nulls first;"
   ]
  },
  {
   "cell_type": "markdown",
   "metadata": {
    "application/vnd.databricks.v1+cell": {
     "cellMetadata": {},
     "inputWidgets": {},
     "nuid": "e2a08773-f0cd-477b-89ce-29621d678f48",
     "showTitle": false,
     "title": ""
    }
   },
   "source": [
    "Zadanie\n",
    "\n",
    "\n",
    "Sporządź zestawienie obrotów (*double(unit_price)*  \\*  *double(quantity)*) per kategoria na 1. poziomie (wraz z sumą całkowitą w ostatnim wierszu)."
   ]
  },
  {
   "cell_type": "code",
   "execution_count": 0,
   "metadata": {
    "application/vnd.databricks.v1+cell": {
     "cellMetadata": {},
     "inputWidgets": {},
     "nuid": "226f0034-29f3-4ce3-8530-0cbdcd691abf",
     "showTitle": false,
     "title": ""
    }
   },
   "outputs": [],
   "source": []
  },
  {
   "cell_type": "markdown",
   "metadata": {
    "application/vnd.databricks.v1+cell": {
     "cellMetadata": {},
     "inputWidgets": {},
     "nuid": "cda0244c-e606-4637-89f7-377bfb5d1f8c",
     "showTitle": false,
     "title": ""
    }
   },
   "source": [
    "Rozwiązanie jest poniżej"
   ]
  },
  {
   "cell_type": "code",
   "execution_count": 0,
   "metadata": {
    "application/vnd.databricks.v1+cell": {
     "cellMetadata": {
      "byteLimit": 2048000,
      "rowLimit": 10000
     },
     "inputWidgets": {},
     "nuid": "6d511203-edc8-47d6-9b12-ce182d8cd24d",
     "showTitle": false,
     "title": ""
    }
   },
   "outputs": [],
   "source": [
    "select\n",
    "  c.category_level1,\n",
    "  sum(double(unit_price) * double(quantity)) as total\n",
    "from\n",
    "  uam_orders o\n",
    "  join uam_categories c on c.category_id = o.category_id\n",
    "group by\n",
    "  c.category_level1 with rollup\n",
    "order by\n",
    "  category_level1 nulls last;"
   ]
  },
  {
   "cell_type": "markdown",
   "metadata": {
    "application/vnd.databricks.v1+cell": {
     "cellMetadata": {},
     "inputWidgets": {},
     "nuid": "d99bf690-73f0-44e5-b38d-f81249285e25",
     "showTitle": false,
     "title": ""
    }
   },
   "source": [
    "Do nakładania ograniczeń na wynik funkcji grupujących służy klauzula `HAVING`"
   ]
  },
  {
   "cell_type": "markdown",
   "metadata": {
    "application/vnd.databricks.v1+cell": {
     "cellMetadata": {},
     "inputWidgets": {},
     "nuid": "41515487-cc9b-4abb-9b5d-bb56fd8e7da1",
     "showTitle": false,
     "title": ""
    }
   },
   "source": [
    "Przykład\n",
    "\n",
    "Sporządź zestawienie obrotów jak w powyższym zadaniu ograniczając zbiór wynikowy do kategorii z obrotami powyżej 2000 zł"
   ]
  },
  {
   "cell_type": "code",
   "execution_count": 0,
   "metadata": {
    "application/vnd.databricks.v1+cell": {
     "cellMetadata": {
      "byteLimit": 2048000,
      "rowLimit": 10000
     },
     "inputWidgets": {},
     "nuid": "32c647ae-0147-48f0-94e3-e8f46ebd0b5b",
     "showTitle": false,
     "title": ""
    }
   },
   "outputs": [],
   "source": [
    "select\n",
    "  c.category_level1,\n",
    "  sum(double(unit_price) * double(quantity)) as total\n",
    "from\n",
    "  uam_orders t\n",
    "  join uam_categories c on c.category_id = t.category_id\n",
    "group by\n",
    "  c.category_level1 with rollup\n",
    "having\n",
    "  sum(double(unit_price) * double(quantity)) > 2000\n",
    "order by\n",
    "  category_level1 nulls last;"
   ]
  },
  {
   "cell_type": "markdown",
   "metadata": {
    "application/vnd.databricks.v1+cell": {
     "cellMetadata": {},
     "inputWidgets": {},
     "nuid": "0a0aea32-daae-427a-a310-8408ca1ece75",
     "showTitle": false,
     "title": ""
    }
   },
   "source": [
    "Warto zwrócić uwagę na kolejność wykonywania poszczególnych klauzul. Klauzula `HAVING` odfiltrowywuje po zgrupowaniu, obliczeniu sum cząstkowych i sumy globalnych obrotów (kolumna *null*)."
   ]
  },
  {
   "cell_type": "markdown",
   "metadata": {
    "application/vnd.databricks.v1+cell": {
     "cellMetadata": {},
     "inputWidgets": {},
     "nuid": "22c9058f-1561-4e42-9868-4dbfcab0b801",
     "showTitle": false,
     "title": ""
    }
   },
   "source": [
    "Inne przydatne funkcje grupujące znajdują się poniżej:\n",
    "\n",
    "`approxCount([distinct] …)`\n",
    "\n",
    "`avg`\n",
    "\n",
    "`collect_list`  \n",
    "\n",
    "`collect_set`  \n",
    "\n",
    "`corr`  \n",
    "\n",
    "`count([distinct] ...) ` \n",
    "\n",
    "`first`  \n",
    "\n",
    "`kurtosis`  \n",
    "\n",
    "`last`  \n",
    "\n",
    "`max`  \n",
    "\n",
    "`mean`  \n",
    "\n",
    "`min`  \n",
    "\n",
    "`skewness`\n",
    "\n",
    "`stddev_pop`  \n",
    "\n",
    "`stddev_samp`  \n",
    "\n",
    "`stddev`  \n",
    "\n",
    "`sum([distinct] ...) `\n",
    "\n",
    "`var_pop`  \n",
    "\n",
    "`var_samp` \n",
    "\n",
    "`variance`"
   ]
  },
  {
   "cell_type": "markdown",
   "metadata": {
    "application/vnd.databricks.v1+cell": {
     "cellMetadata": {},
     "inputWidgets": {},
     "nuid": "294f2b05-b92a-4c9a-bdb3-8de412ed07bd",
     "showTitle": false,
     "title": ""
    }
   },
   "source": [
    "# Operacja `cache`\n",
    "\n",
    "\n",
    "W przypadku, gdy wiemy, że będziemy wielokrotnie używali daną tabelę \n",
    "w zapytaniach możemy skorzystać z operacji cache. Spowoduje ona zachowanie danej tabeli w pamięci operacyjnej."
   ]
  },
  {
   "cell_type": "code",
   "execution_count": 0,
   "metadata": {
    "application/vnd.databricks.v1+cell": {
     "cellMetadata": {
      "byteLimit": 2048000,
      "rowLimit": 10000
     },
     "inputWidgets": {},
     "nuid": "04c992a0-8b7f-404f-b781-5bffebc29ab4",
     "showTitle": false,
     "title": ""
    }
   },
   "outputs": [],
   "source": [
    "cache table uam_categories"
   ]
  },
  {
   "cell_type": "markdown",
   "metadata": {
    "application/vnd.databricks.v1+cell": {
     "cellMetadata": {},
     "inputWidgets": {},
     "nuid": "621d1319-ec28-485b-bd9a-6fa2a293103c",
     "showTitle": false,
     "title": ""
    }
   },
   "source": [
    "Operacją powodującą zwolnienie pamięci podręcznej jest `uncache table`:"
   ]
  },
  {
   "cell_type": "code",
   "execution_count": 0,
   "metadata": {
    "application/vnd.databricks.v1+cell": {
     "cellMetadata": {
      "byteLimit": 2048000,
      "rowLimit": 10000
     },
     "inputWidgets": {},
     "nuid": "c1a64066-07cf-4b3e-bc27-842f17ec2a14",
     "showTitle": false,
     "title": ""
    }
   },
   "outputs": [],
   "source": [
    "uncache table uam_categories;"
   ]
  },
  {
   "cell_type": "markdown",
   "metadata": {
    "application/vnd.databricks.v1+cell": {
     "cellMetadata": {},
     "inputWidgets": {},
     "nuid": "a3e44365-24f8-4c9d-ac44-10d211096e67",
     "showTitle": false,
     "title": ""
    }
   },
   "source": [
    "Porównajmy plany zapytań przed i po operacji `cache`:"
   ]
  },
  {
   "cell_type": "code",
   "execution_count": 0,
   "metadata": {
    "application/vnd.databricks.v1+cell": {
     "cellMetadata": {
      "byteLimit": 2048000,
      "rowLimit": 10000
     },
     "inputWidgets": {},
     "nuid": "e374d471-0465-4ed9-bf1b-e73317759d6a",
     "showTitle": false,
     "title": ""
    }
   },
   "outputs": [],
   "source": [
    "explain\n",
    "select\n",
    "  count(1)\n",
    "from\n",
    "  uam_categories;"
   ]
  },
  {
   "cell_type": "code",
   "execution_count": 0,
   "metadata": {
    "application/vnd.databricks.v1+cell": {
     "cellMetadata": {
      "byteLimit": 2048000,
      "rowLimit": 10000
     },
     "inputWidgets": {},
     "nuid": "882d1b61-a657-4c73-b065-85c8a6eeefa0",
     "showTitle": false,
     "title": ""
    }
   },
   "outputs": [],
   "source": [
    "cache table uam_categories;"
   ]
  },
  {
   "cell_type": "code",
   "execution_count": 0,
   "metadata": {
    "application/vnd.databricks.v1+cell": {
     "cellMetadata": {
      "byteLimit": 2048000,
      "rowLimit": 10000
     },
     "inputWidgets": {},
     "nuid": "136068bb-3393-4518-8d4c-19c6a8e8bd0b",
     "showTitle": false,
     "title": ""
    }
   },
   "outputs": [],
   "source": [
    "explain\n",
    "select\n",
    "  count(1)\n",
    "from\n",
    "  uam_categories;"
   ]
  },
  {
   "cell_type": "markdown",
   "metadata": {
    "application/vnd.databricks.v1+cell": {
     "cellMetadata": {},
     "inputWidgets": {},
     "nuid": "5cf010be-9eb6-4a2f-9374-2bf1ec21c438",
     "showTitle": false,
     "title": ""
    }
   },
   "source": [
    "W planie zapytania przed operacją `cache` pojawia się:\n",
    "\n",
    "*LocalTableScan [count(1) ...]*\n",
    "\n",
    "co oznacza, że dane są odczytywane z dysku.\n",
    "\n",
    "\n",
    "Po operacji `cache` w planie odnajdujemy:\n",
    "\n",
    "*Scan In-memory table uam_categories*\n",
    "\n",
    "Co oznacza, że dane są odczytywane z pamięci operacyjnej."
   ]
  },
  {
   "cell_type": "markdown",
   "metadata": {
    "application/vnd.databricks.v1+cell": {
     "cellMetadata": {},
     "inputWidgets": {},
     "nuid": "9b34a9c0-bbbd-4b4a-83b7-ca8da298eda7",
     "showTitle": false,
     "title": ""
    }
   },
   "source": [
    "Całą pamięć podręczną możemy wyczyścić poleceniem `clear cache`:"
   ]
  },
  {
   "cell_type": "code",
   "execution_count": 0,
   "metadata": {
    "application/vnd.databricks.v1+cell": {
     "cellMetadata": {
      "byteLimit": 2048000,
      "rowLimit": 10000
     },
     "inputWidgets": {},
     "nuid": "158fa123-0900-4edf-a8cd-e74bbf9c26e2",
     "showTitle": false,
     "title": ""
    }
   },
   "outputs": [],
   "source": [
    "clear cache"
   ]
  },
  {
   "cell_type": "markdown",
   "metadata": {
    "application/vnd.databricks.v1+cell": {
     "cellMetadata": {},
     "inputWidgets": {},
     "nuid": "147857ce-5ada-48d4-8064-7962cd5bf4e7",
     "showTitle": false,
     "title": ""
    }
   },
   "source": [
    "# Funkcje analityczne\n",
    "\n",
    "Działanie funkcji analitycznych jest analogiczne jak w przypadku innych dialektów SQL.\n",
    "\n",
    "Prześledźmy działanie funkcji analitycznych na przykładach"
   ]
  },
  {
   "cell_type": "markdown",
   "metadata": {
    "application/vnd.databricks.v1+cell": {
     "cellMetadata": {},
     "inputWidgets": {},
     "nuid": "4dadf21a-d1a8-4060-b06f-ae74324d1882",
     "showTitle": false,
     "title": ""
    }
   },
   "source": [
    "Znajdźmy kategorię (1. poziom), w której użytkownicy (*buyer_id*) dokonali 1. transakcji (jako kupujący). Wynik ogranicz do 10 rekordów."
   ]
  },
  {
   "cell_type": "code",
   "execution_count": 0,
   "metadata": {
    "application/vnd.databricks.v1+cell": {
     "cellMetadata": {
      "byteLimit": 2048000,
      "rowLimit": 10000
     },
     "inputWidgets": {},
     "nuid": "57571fe2-74c6-4e38-a862-36c7c986a422",
     "showTitle": false,
     "title": ""
    }
   },
   "outputs": [],
   "source": [
    "select\n",
    "  buyer_id,\n",
    "  category_level1\n",
    "from\n",
    "  (\n",
    "    select\n",
    "      t.buyer_id,\n",
    "      rank() over(\n",
    "        partition by t.buyer_id\n",
    "        order by\n",
    "          t.buyingTime\n",
    "      ) as rank_,\n",
    "      t.category_id\n",
    "    from\n",
    "      uam_orders t\n",
    "    qualify rank_ = 1\n",
    "  ) t\n",
    "  join uam_categories c on c.category_id = t.category_id\n",
    "limit 10\n"
   ]
  },
  {
   "cell_type": "markdown",
   "metadata": {
    "application/vnd.databricks.v1+cell": {
     "cellMetadata": {},
     "inputWidgets": {},
     "nuid": "43ec54c8-e5f6-4b2a-86e0-1abb6cd0a310",
     "showTitle": false,
     "title": ""
    }
   },
   "source": [
    "Aby wywołać funkcję analityczną `rank()` musimy podać towarzyszącą jej definicję okna `over(partition by t.buyer_id order by t.buyingTime)`. W tym przypadku okno tworzy partycje dla każdego kupującego (*buyer_id*) i wymusza sortowanie po czasie zakupu (*buyingTime*). Zgodnie z czasem zakupu tworzony jest ranking (funkcja `rank`).\n",
    "\n",
    "Alternatywne i bardziej zwięzłe rozwiązanie jest poniżej:"
   ]
  },
  {
   "cell_type": "code",
   "execution_count": 0,
   "metadata": {
    "application/vnd.databricks.v1+cell": {
     "cellMetadata": {
      "byteLimit": 2048000,
      "rowLimit": 10000
     },
     "inputWidgets": {},
     "nuid": "7771ebd5-468e-473b-8cf6-c63d8cedb330",
     "showTitle": false,
     "title": ""
    }
   },
   "outputs": [],
   "source": [
    "select\n",
    "  distinct *\n",
    "from\n",
    "  (\n",
    "    select\n",
    "      FIRST_VALUE (category_level1) OVER (\n",
    "        partition by buyer_id\n",
    "        ORDER BY\n",
    "          buyingTime\n",
    "      ) first_cat_level_1,\n",
    "      buyer_id\n",
    "    from uam_categories c\n",
    "    join uam_orders o on c.category_id = o.category_id\n",
    "  )\n",
    "limit 10"
   ]
  },
  {
   "cell_type": "markdown",
   "metadata": {
    "application/vnd.databricks.v1+cell": {
     "cellMetadata": {},
     "inputWidgets": {},
     "nuid": "5fe6039a-d2a6-4ec3-98e3-e7b6142cac66",
     "showTitle": false,
     "title": ""
    }
   },
   "source": [
    "Dla zwiększenia czytelności kodu możemy się posłużyć klauzulą `WINDOW`:"
   ]
  },
  {
   "cell_type": "code",
   "execution_count": 0,
   "metadata": {
    "application/vnd.databricks.v1+cell": {
     "cellMetadata": {
      "byteLimit": 2048000,
      "rowLimit": 10000
     },
     "inputWidgets": {},
     "nuid": "a73c470c-1ddd-4d92-8b36-3cf8e1c4e784",
     "showTitle": false,
     "title": ""
    }
   },
   "outputs": [],
   "source": [
    "select\n",
    "  buyer_id,\n",
    "  category_level1\n",
    "from\n",
    "  (\n",
    "    select\n",
    "      t.buyer_id,\n",
    "      rank() over buying_time_window as rank_,\n",
    "      t.category_id\n",
    "    from\n",
    "      uam_orders t \n",
    "    qualify rank_ = 1\n",
    "    window buying_time_window as (\n",
    "        partition by t.buyer_id\n",
    "        order by\n",
    "          t.buyingTime\n",
    "      )\n",
    "  ) t\n",
    "  join uam_categories c on c.category_id = t.category_id\n",
    "limit 10"
   ]
  },
  {
   "cell_type": "markdown",
   "metadata": {
    "application/vnd.databricks.v1+cell": {
     "cellMetadata": {},
     "inputWidgets": {},
     "nuid": "ffde463b-0e5f-4cd4-a461-c7ad8fbae91d",
     "showTitle": false,
     "title": ""
    }
   },
   "source": [
    "Może być to szczególnie przydatne przy wykorzystywaniu tej samej definicji okna w jednym zapytaniu"
   ]
  },
  {
   "cell_type": "markdown",
   "metadata": {
    "application/vnd.databricks.v1+cell": {
     "cellMetadata": {},
     "inputWidgets": {},
     "nuid": "a634dc65-bd72-4ccd-a725-67f1dfd5b3d1",
     "showTitle": false,
     "title": ""
    }
   },
   "source": [
    "Definicje okna mogą opierać się na sąsiednich wierszach (`rows between ... and ... `) lub na wartościach wierszy (`range between ... and ... `). \n",
    "\n",
    "W ten sposób możemy przykładowo:"
   ]
  },
  {
   "cell_type": "markdown",
   "metadata": {
    "application/vnd.databricks.v1+cell": {
     "cellMetadata": {},
     "inputWidgets": {},
     "nuid": "92419b5a-4ee1-4181-b2a2-a36cbdb04a4a",
     "showTitle": false,
     "title": ""
    }
   },
   "source": [
    "Znaleźć maksymalną cenę sprzedanego towaru w odniesieniu do 2 poprzednich i następnych zakupów"
   ]
  },
  {
   "cell_type": "code",
   "execution_count": 0,
   "metadata": {
    "application/vnd.databricks.v1+cell": {
     "cellMetadata": {
      "byteLimit": 2048000,
      "rowLimit": 10000
     },
     "inputWidgets": {},
     "nuid": "20c0ae32-d3ef-4c45-9dce-b713fa848221",
     "showTitle": false,
     "title": ""
    }
   },
   "outputs": [],
   "source": [
    "select\n",
    "  seller_id,\n",
    "  max(price) over (\n",
    "    partition by seller_id\n",
    "    order by\n",
    "      buyingTime rows between 2 preceding\n",
    "      and 2 following\n",
    "  ) as max_price_in_window\n",
    "from\n",
    "  uam_orders\n",
    "limit\n",
    "  10;"
   ]
  },
  {
   "cell_type": "markdown",
   "metadata": {
    "application/vnd.databricks.v1+cell": {
     "cellMetadata": {},
     "inputWidgets": {},
     "nuid": "082c9943-aca2-402a-9761-cb109635d7cf",
     "showTitle": false,
     "title": ""
    }
   },
   "source": [
    "Znajdźmy liczbę ofert w zakresie cenowym między ceną danej oferty a ceną danej oferty + 5 PLN"
   ]
  },
  {
   "cell_type": "code",
   "execution_count": 0,
   "metadata": {
    "application/vnd.databricks.v1+cell": {
     "cellMetadata": {
      "byteLimit": 2048000,
      "rowLimit": 10000
     },
     "inputWidgets": {},
     "nuid": "e378204e-fb71-429e-aa48-39ca5101ec0c",
     "showTitle": false,
     "title": ""
    }
   },
   "outputs": [],
   "source": [
    "select\n",
    "  offer_id,\n",
    "  count(*) over (\n",
    "    order by\n",
    "      cast(buynow_price as decimal(12, 2)) range between current row\n",
    "      and 5.0 following\n",
    "  ) as num_of_offers_with_the_same_price_or_higher_but_less_than_5PLN,\n",
    "  cast(buynow_price as decimal(12, 2)) as buynow_price\n",
    "from\n",
    "  uam_offers\n",
    "order by\n",
    "  cast(buynow_price as decimal(12, 2)) nulls last\n",
    "limit\n",
    "  1000;"
   ]
  },
  {
   "cell_type": "markdown",
   "metadata": {
    "application/vnd.databricks.v1+cell": {
     "cellMetadata": {},
     "inputWidgets": {},
     "nuid": "4a2251e0-0d32-4f7a-9706-ad52caac0fd6",
     "showTitle": false,
     "title": ""
    }
   },
   "source": [
    "# Usuwanie i tworzenie tabel\n",
    "\n",
    "Najważniejsze polecenia to:\n",
    "1. `DROP TABLE [IF EXISTS] [nazwa_bazy.]nazwa_tabeli` - usuwa tabelę (z domyślnie ustawionej bazy). Jeśli tabela nie istnieje zwracany jest wyjątek. Wyjątek nie jest zwracany, gdy użyjemy opcjonalnej klauzuli `IF EXISTS`\n",
    "2. `CREATE [TEMPORARY] TABLE [IF NOT EXISTS] [nazwa_bazy.]nazwa_tabeli ... ` - tworzy tabelę (opcjonalnie temporalną, czyli na potrzeby bieżącej sesji) o nazwie nazwa_tabeli i w bazie nazwa_bazy. Przykładowe schematy tabel można sprawdzić poleceniem `SHOW CREATE TABLE`. Nie będziemy szczegółowo analizować składni tego polecenia.\n",
    "3. `CREATE [EXTERNAL] TABLE [IF NOT EXISTS] [nazwa_bazy.]nazwa_tabeli ... ` - podobne polecenie jak opisane w pkt. 2, ale służy do tworzenia tabel eksternalnych\n",
    "4. `CREATE TABLE [IF NOT EXISTS] [nazwa_bazy.]nazwa_tabeli LIKE [nazwa_bazy_2.]nazwa_tabeli_2` - tworzy tabelę nazwa_tabeli o schemacie nazwa_tabeli_2 bez kopiowania danych\n",
    "\n",
    "Dla zainteresowanych: https://docs.gcp.databricks.com/sql/language-manual/sql-ref-syntax-ddl-create-table.html\n",
    "\n",
    "Tabele można również tworzyć korzystając ze składni kompatybilnej z Hive'em."
   ]
  },
  {
   "cell_type": "markdown",
   "metadata": {
    "application/vnd.databricks.v1+cell": {
     "cellMetadata": {},
     "inputWidgets": {},
     "nuid": "cf5bafd8-515f-4443-a21d-22a784fc15bf",
     "showTitle": false,
     "title": ""
    }
   },
   "source": [
    "# Wstawianie i przechowywanie danych\n",
    "\n",
    "Poniższe polecenia służą do wstawiania danych do tabeli [nazwa_bazy.]nazwa_tabeli (opcjonalnie konkretnej partycji specyfikacja_partycji) za pomocą klauzuli `SELECT`:\n",
    "1. `INSERT INTO [TABLE] [nazwa_bazy.]nazwa_tabeli [PARTITION specyfikacja_partycji] SELECT ...` - powoduje dodanych nowych danych i zachowanie obecnych\n",
    "2. `INSERT OVERWRITE TABLE [nazwa_bazy.]nazwa_tabeli [PARTITION specyfikacja_partycji] SELECT ...` - dodane nowe dane nadpisując dotychczasowe\n",
    "\n",
    "Poniższe polecenia działają podobnie, ale umożliwiają samodzielnie specyfikowanie wstawianych rekordów:\n",
    "1. `INSERT INTO [TABLE] [nazwa_bazy.]nazwa_tabeli [PARTITION specyfikacja_partycji] VALUES ...`\n",
    "2. `INSERT OVERWRITE TABLE [nazwa_bazy.]nazwa_tabeli [PARTITION specyfikacja_partycji] VALUES ...`\n",
    "\n",
    "Dostępne jest również polecenie `INSERT OVERWRITE [LOCAL] DIRECTORY ... `, które umożliwia zrzut rekordów bezpośrednio do systemu plików z pominięcięm tabel."
   ]
  },
  {
   "cell_type": "markdown",
   "metadata": {
    "application/vnd.databricks.v1+cell": {
     "cellMetadata": {},
     "inputWidgets": {},
     "nuid": "4d332a57-3b13-4354-a018-63b0c6c99a25",
     "showTitle": false,
     "title": ""
    }
   },
   "source": [
    "Przykłady\n",
    "\n",
    "Utworzymy tabelę partycjonowaną i wstawimy rekord do konkretnej partycji:"
   ]
  },
  {
   "cell_type": "code",
   "execution_count": 0,
   "metadata": {
    "application/vnd.databricks.v1+cell": {
     "cellMetadata": {
      "byteLimit": 2048000,
      "rowLimit": 10000
     },
     "inputWidgets": {},
     "nuid": "3b23329e-7cd6-4e90-9b50-6caeb716511b",
     "showTitle": false,
     "title": ""
    }
   },
   "outputs": [],
   "source": [
    "drop table if exists uam_user_segments;\n",
    "\n",
    "create table uam_user_segments (\n",
    "  us_id bigint,\n",
    "  trans_count bigint,\n",
    "  turnover double,\n",
    "  segment string\n",
    ") partitioned by (month_ string) stored as orc;\n",
    "\n",
    "insert into\n",
    "  uam_user_segments partition(month_ = '2020-01-01')\n",
    "values\n",
    "  (1, 1, 1.0, 'small');\n",
    "  \n",
    "insert into\n",
    "  uam_user_segments partition(month_ = '2020-02-01')\n",
    "values\n",
    "  (2, 100, 100.0, 'medium');"
   ]
  },
  {
   "cell_type": "code",
   "execution_count": 0,
   "metadata": {
    "application/vnd.databricks.v1+cell": {
     "cellMetadata": {
      "byteLimit": 2048000,
      "rowLimit": 10000
     },
     "inputWidgets": {},
     "nuid": "0805ab58-9b43-47f3-9dfa-623d278f44df",
     "showTitle": false,
     "title": ""
    }
   },
   "outputs": [],
   "source": [
    "show create table uam_user_segments;"
   ]
  },
  {
   "cell_type": "markdown",
   "metadata": {
    "application/vnd.databricks.v1+cell": {
     "cellMetadata": {},
     "inputWidgets": {},
     "nuid": "cc327a86-b743-46b7-9607-25f26e64b263",
     "showTitle": false,
     "title": ""
    }
   },
   "source": [
    "Sprawdzimy teraz w jakiej ścieżce zapisują się nasze dane na `DBFS` (szukamy atrybutu *Location*):"
   ]
  },
  {
   "cell_type": "code",
   "execution_count": 0,
   "metadata": {
    "application/vnd.databricks.v1+cell": {
     "cellMetadata": {
      "byteLimit": 2048000,
      "rowLimit": 10000
     },
     "inputWidgets": {},
     "nuid": "0bd9b61d-e0be-4a5d-a465-495c02f96afa",
     "showTitle": false,
     "title": ""
    }
   },
   "outputs": [],
   "source": [
    "desc formatted uam_user_segments;"
   ]
  },
  {
   "cell_type": "code",
   "execution_count": 0,
   "metadata": {
    "application/vnd.databricks.v1+cell": {
     "cellMetadata": {
      "byteLimit": 2048000,
      "rowLimit": 10000
     },
     "inputWidgets": {},
     "nuid": "f232f2b7-6ce2-4e69-b137-8b08ad6edb81",
     "showTitle": false,
     "title": ""
    }
   },
   "outputs": [],
   "source": [
    "%fs ls dbfs:/user/hive/warehouse/uam_user_segments"
   ]
  },
  {
   "cell_type": "code",
   "execution_count": 0,
   "metadata": {
    "application/vnd.databricks.v1+cell": {
     "cellMetadata": {
      "byteLimit": 2048000,
      "rowLimit": 10000
     },
     "inputWidgets": {},
     "nuid": "3b41dc8c-3d2f-428e-bd4a-ba85ad721494",
     "showTitle": false,
     "title": ""
    }
   },
   "outputs": [],
   "source": [
    "%fs ls dbfs:/user/hive/warehouse/uam_user_segments/month_=2020-01-01/"
   ]
  },
  {
   "cell_type": "markdown",
   "metadata": {
    "application/vnd.databricks.v1+cell": {
     "cellMetadata": {},
     "inputWidgets": {},
     "nuid": "c73199a4-33ef-48ae-8c52-76cb69ece80b",
     "showTitle": false,
     "title": ""
    }
   },
   "source": [
    "Możemy odpytać naszą tabelę na dwa sposoby:"
   ]
  },
  {
   "cell_type": "code",
   "execution_count": 0,
   "metadata": {
    "application/vnd.databricks.v1+cell": {
     "cellMetadata": {
      "byteLimit": 2048000,
      "rowLimit": 10000
     },
     "inputWidgets": {},
     "nuid": "ea14e8d6-2cd1-4e73-8e72-a0046c07ec3b",
     "showTitle": false,
     "title": ""
    }
   },
   "outputs": [],
   "source": [
    "-- 1: SQL\n",
    "select\n",
    "  *\n",
    "from\n",
    "  uam_user_segments;"
   ]
  },
  {
   "cell_type": "code",
   "execution_count": 0,
   "metadata": {
    "application/vnd.databricks.v1+cell": {
     "cellMetadata": {
      "byteLimit": 2048000,
      "rowLimit": 10000
     },
     "inputWidgets": {},
     "nuid": "204da0f6-94ad-443b-9024-c7dbd6295737",
     "showTitle": false,
     "title": ""
    }
   },
   "outputs": [],
   "source": [
    "-- 2: bezpośrednio z katalogu\n",
    "select\n",
    "  *\n",
    "from\n",
    "  `orc`.`dbfs:/user/hive/warehouse/uam_user_segments/`"
   ]
  },
  {
   "cell_type": "markdown",
   "metadata": {
    "application/vnd.databricks.v1+cell": {
     "cellMetadata": {},
     "inputWidgets": {},
     "nuid": "256794f8-fb81-4c39-83d8-53d373f80732",
     "showTitle": false,
     "title": ""
    }
   },
   "source": [
    "Nasza tabela jest partycjonowana, więc optymalniej będzie ją odpytywać zakładając warunek na klucz partycjonujący:"
   ]
  },
  {
   "cell_type": "code",
   "execution_count": 0,
   "metadata": {
    "application/vnd.databricks.v1+cell": {
     "cellMetadata": {
      "byteLimit": 2048000,
      "rowLimit": 10000
     },
     "inputWidgets": {},
     "nuid": "1814ee39-c1ae-4b45-8a02-12130575c5a0",
     "showTitle": false,
     "title": ""
    }
   },
   "outputs": [],
   "source": [
    "-- 1: SQL\n",
    "select\n",
    "  *\n",
    "from\n",
    "  uam_user_segments\n",
    "where\n",
    "  month_ = '2020-02-01';"
   ]
  },
  {
   "cell_type": "code",
   "execution_count": 0,
   "metadata": {
    "application/vnd.databricks.v1+cell": {
     "cellMetadata": {
      "byteLimit": 2048000,
      "rowLimit": 10000
     },
     "inputWidgets": {},
     "nuid": "2d3ab8a8-9334-417c-94ba-46a8454f185b",
     "showTitle": false,
     "title": ""
    }
   },
   "outputs": [],
   "source": [
    "-- 2: bezpośrednio z katalogu\n",
    "select\n",
    "  *\n",
    "from\n",
    "  `orc`.`dbfs:/user/hive/warehouse/uam_user_segments/month_=2020-02-01/`"
   ]
  },
  {
   "cell_type": "markdown",
   "metadata": {
    "application/vnd.databricks.v1+cell": {
     "cellMetadata": {},
     "inputWidgets": {},
     "nuid": "c1921e4d-5811-4221-9350-9d9f66c2b8b5",
     "showTitle": false,
     "title": ""
    }
   },
   "source": [
    "Partycjonowanie jest jedną z najbardziej efektywnych i popularnych technik optymalizowania zapisu i odczytu danych. W przypadku zapisu możliwe są operacja dodawania, usuwania, zmiany ścieżki i nazwy partycji (szczegóły: https://docs.gcp.databricks.com/sql/language-manual/sql-ref-partition.html). Skupmy się jednak na samym odczycie i porównajmy plany zapytań z warunkiem na klucz partycji i bez:"
   ]
  },
  {
   "cell_type": "code",
   "execution_count": 0,
   "metadata": {
    "application/vnd.databricks.v1+cell": {
     "cellMetadata": {
      "byteLimit": 2048000,
      "rowLimit": 10000
     },
     "inputWidgets": {},
     "nuid": "a5a19457-37f4-447e-95e6-d506b0e3e0a9",
     "showTitle": false,
     "title": ""
    }
   },
   "outputs": [],
   "source": [
    "explain\n",
    "select\n",
    "  *\n",
    "from\n",
    "  uam_user_segments\n",
    "where\n",
    "  month_ = '2020-02-01';"
   ]
  },
  {
   "cell_type": "markdown",
   "metadata": {
    "application/vnd.databricks.v1+cell": {
     "cellMetadata": {},
     "inputWidgets": {},
     "nuid": "ffb9d244-9601-4070-bed8-3a7a97197c60",
     "showTitle": false,
     "title": ""
    }
   },
   "source": [
    "W powyższym planie interesujące są pogrubione fragmenty świadczące o odfiltrowaniu odpowiednich partycji na etapie wczytywania danych:\n",
    "\n",
    "== Physical Plan == \\*(1) ColumnarToRow +- FileScan orc default.uam_user_segments[us_id#6219L,trans_count#6220L,turnover#6221,segment#6222,month_#6223] Batched: true, DataFilters: [], Format: ORC, **Location: InMemoryFileIndex[dbfs:/user/hive/warehouse/uam_user_segments/month_=2020-02-01]**, **PartitionFilters: [isnotnull(month_#6223), (month_#6223 = 2020-02-01)]**, PushedFilters: [], ReadSchema: struct<us_id:bigint,trans_count:bigint,turnover:double,segment:string>"
   ]
  },
  {
   "cell_type": "markdown",
   "metadata": {
    "application/vnd.databricks.v1+cell": {
     "cellMetadata": {},
     "inputWidgets": {},
     "nuid": "96d6d2d5-c69a-4dc6-96dc-3ceacdb0d51d",
     "showTitle": false,
     "title": ""
    }
   },
   "source": [
    "Gdy nie założymy warunku na klucz partycji, to odczytywana jest cała tabela:"
   ]
  },
  {
   "cell_type": "code",
   "execution_count": 0,
   "metadata": {
    "application/vnd.databricks.v1+cell": {
     "cellMetadata": {
      "byteLimit": 2048000,
      "rowLimit": 10000
     },
     "inputWidgets": {},
     "nuid": "bc82fe3b-2822-4934-9f69-057aed9efe60",
     "showTitle": false,
     "title": ""
    }
   },
   "outputs": [],
   "source": [
    "explain\n",
    "select\n",
    "  *\n",
    "from\n",
    "  uam_user_segments\n",
    "where\n",
    "  us_id = 1;"
   ]
  },
  {
   "cell_type": "markdown",
   "metadata": {
    "application/vnd.databricks.v1+cell": {
     "cellMetadata": {},
     "inputWidgets": {},
     "nuid": "61e4cfae-6f0e-48e1-8dca-c19b21132019",
     "showTitle": false,
     "title": ""
    }
   },
   "source": [
    "Dygresja - lokalny system plików (`local file system`) vs. rozproszony system plików (`distributed file system`)\n",
    "\n",
    "Porównajmy poniższe polecenia. Pierwsze z nich odpytuje lokalny system plików. Gdyby to był notebook uruchamiany na naszym komputerze, to byłby to nasz dysk twardy. \n",
    "\n",
    "Drugie polecenie odpytuje rozproszony system plików."
   ]
  },
  {
   "cell_type": "code",
   "execution_count": 0,
   "metadata": {
    "application/vnd.databricks.v1+cell": {
     "cellMetadata": {
      "byteLimit": 2048000,
      "rowLimit": 10000
     },
     "inputWidgets": {},
     "nuid": "65c1be05-6bc1-445d-b494-2c265dd5f8cc",
     "showTitle": false,
     "title": ""
    }
   },
   "outputs": [],
   "source": [
    "%sh ls /"
   ]
  },
  {
   "cell_type": "code",
   "execution_count": 0,
   "metadata": {
    "application/vnd.databricks.v1+cell": {
     "cellMetadata": {
      "byteLimit": 2048000,
      "rowLimit": 10000
     },
     "inputWidgets": {},
     "nuid": "704b818b-ef7f-4d75-b6ba-e1e5ed88fc9d",
     "showTitle": false,
     "title": ""
    }
   },
   "outputs": [],
   "source": [
    "%fs ls /"
   ]
  },
  {
   "cell_type": "markdown",
   "metadata": {
    "application/vnd.databricks.v1+cell": {
     "cellMetadata": {},
     "inputWidgets": {},
     "nuid": "753f30f4-f777-4e40-a70f-17ba79914533",
     "showTitle": false,
     "title": ""
    }
   },
   "source": [
    "Między danymi na rozproszonym systemie plików a metadanymi (nazwy schematów i tabel) istnieje zależność zdefiniowana w atrybucie `Location`, typie odczytywanego i zapisywanego pliku oraz konwencji nazewniczej (katalogi mapowane są na partycje).\n",
    "\n",
    "W związku z tym nic nie stoi na przeszkodzie, aby odwrócić sposób naszego przetwarzania - najpierw utworzyć plik z danymi, a potem tabelę ekstarnalną (`EXTERNAL TABLE`):"
   ]
  },
  {
   "cell_type": "code",
   "execution_count": 0,
   "metadata": {
    "application/vnd.databricks.v1+cell": {
     "cellMetadata": {
      "byteLimit": 2048000,
      "rowLimit": 10000
     },
     "inputWidgets": {},
     "nuid": "9eb7b1ae-71de-426e-845b-fa4655ac743a",
     "showTitle": false,
     "title": ""
    }
   },
   "outputs": [],
   "source": [
    "INSERT\n",
    "  OVERWRITE DIRECTORY '/tmp/sample_data' stored as parquet\n",
    "select\n",
    "  'Moje testowe dane' as testowa_kolumna"
   ]
  },
  {
   "cell_type": "code",
   "execution_count": 0,
   "metadata": {
    "application/vnd.databricks.v1+cell": {
     "cellMetadata": {
      "byteLimit": 2048000,
      "rowLimit": 10000
     },
     "inputWidgets": {},
     "nuid": "fdbe4974-0aaf-4ba1-9602-a025c57bba76",
     "showTitle": false,
     "title": ""
    }
   },
   "outputs": [],
   "source": [
    "%fs ls /tmp/sample_data"
   ]
  },
  {
   "cell_type": "code",
   "execution_count": 0,
   "metadata": {
    "application/vnd.databricks.v1+cell": {
     "cellMetadata": {
      "byteLimit": 2048000,
      "rowLimit": 10000
     },
     "inputWidgets": {},
     "nuid": "0f64299c-3256-457e-98b5-d12eb862485c",
     "showTitle": false,
     "title": ""
    }
   },
   "outputs": [],
   "source": [
    "create external table testowa_tabela (testowa_kolumna string) location '/tmp/sample_data' stored as parquet;"
   ]
  },
  {
   "cell_type": "code",
   "execution_count": 0,
   "metadata": {
    "application/vnd.databricks.v1+cell": {
     "cellMetadata": {
      "byteLimit": 2048000,
      "rowLimit": 10000
     },
     "inputWidgets": {},
     "nuid": "633ca294-5f75-4ccb-876f-35da4c5e4f77",
     "showTitle": false,
     "title": ""
    }
   },
   "outputs": [],
   "source": [
    "select * from testowa_tabela;"
   ]
  },
  {
   "cell_type": "code",
   "execution_count": 0,
   "metadata": {
    "application/vnd.databricks.v1+cell": {
     "cellMetadata": {
      "byteLimit": 2048000,
      "rowLimit": 10000
     },
     "inputWidgets": {},
     "nuid": "3f181c34-07d6-41e4-95a1-837e52afc81b",
     "showTitle": false,
     "title": ""
    }
   },
   "outputs": [],
   "source": [
    "select * from `parquet`.`/tmp/sample_data`"
   ]
  },
  {
   "cell_type": "markdown",
   "metadata": {
    "application/vnd.databricks.v1+cell": {
     "cellMetadata": {},
     "inputWidgets": {},
     "nuid": "f6d954c5-a58c-4531-aa90-5a4a4d2a96f2",
     "showTitle": false,
     "title": ""
    }
   },
   "source": [
    "Co się stanie z danymi jeśli usuniemy tabelę eksternalną:"
   ]
  },
  {
   "cell_type": "code",
   "execution_count": 0,
   "metadata": {
    "application/vnd.databricks.v1+cell": {
     "cellMetadata": {
      "byteLimit": 2048000,
      "rowLimit": 10000
     },
     "inputWidgets": {},
     "nuid": "5738f5ba-b476-4c84-987d-df1676ac70f6",
     "showTitle": false,
     "title": ""
    }
   },
   "outputs": [],
   "source": [
    "DROP TABLE testowa_tabela;"
   ]
  },
  {
   "cell_type": "code",
   "execution_count": 0,
   "metadata": {
    "application/vnd.databricks.v1+cell": {
     "cellMetadata": {
      "byteLimit": 2048000,
      "rowLimit": 10000
     },
     "inputWidgets": {},
     "nuid": "28711bd6-60f8-49ff-9b27-7560d8db8cf5",
     "showTitle": false,
     "title": ""
    }
   },
   "outputs": [],
   "source": [
    "%fs ls /tmp/sample_data"
   ]
  },
  {
   "cell_type": "markdown",
   "metadata": {
    "application/vnd.databricks.v1+cell": {
     "cellMetadata": {},
     "inputWidgets": {},
     "nuid": "51b46a9c-881d-4afe-9597-110cde8948f4",
     "showTitle": false,
     "title": ""
    }
   },
   "source": [
    "Musimy ręcznie usunąć dane:"
   ]
  },
  {
   "cell_type": "code",
   "execution_count": 0,
   "metadata": {
    "application/vnd.databricks.v1+cell": {
     "cellMetadata": {
      "byteLimit": 2048000,
      "rowLimit": 10000
     },
     "inputWidgets": {},
     "nuid": "4b7000b0-436b-4cf7-9ceb-b835f6e8f5e8",
     "showTitle": false,
     "title": ""
    }
   },
   "outputs": [],
   "source": [
    "%fs rm -r /tmp/sample_data"
   ]
  },
  {
   "cell_type": "markdown",
   "metadata": {
    "application/vnd.databricks.v1+cell": {
     "cellMetadata": {},
     "inputWidgets": {},
     "nuid": "40b58ae9-b7e1-496d-b99a-88303027a910",
     "showTitle": false,
     "title": ""
    }
   },
   "source": [
    "W przypadku dodawania nowych danych w tabelach partycjonowanych, dane będą zarejestrowane do odczytu po wykonaniu `MSCK REPAIR TABLE` (lub poleceniu `ALTER TABLE ... ADD PARTITION ... `):"
   ]
  },
  {
   "cell_type": "code",
   "execution_count": 0,
   "metadata": {
    "application/vnd.databricks.v1+cell": {
     "cellMetadata": {
      "byteLimit": 2048000,
      "rowLimit": 10000
     },
     "inputWidgets": {},
     "nuid": "b034ecae-e1e5-49b1-a042-27366e59fdaf",
     "showTitle": false,
     "title": ""
    }
   },
   "outputs": [],
   "source": [
    "msck repair table uam_user_segments;"
   ]
  },
  {
   "cell_type": "markdown",
   "metadata": {
    "application/vnd.databricks.v1+cell": {
     "cellMetadata": {},
     "inputWidgets": {},
     "nuid": "f8494820-90c4-4ac1-a34f-c2d05a189b52",
     "showTitle": false,
     "title": ""
    }
   },
   "source": [
    "Dygresja - dane możemy również zrzucić na lokalny system plików"
   ]
  },
  {
   "cell_type": "code",
   "execution_count": 0,
   "metadata": {
    "application/vnd.databricks.v1+cell": {
     "cellMetadata": {
      "byteLimit": 2048000,
      "rowLimit": 10000
     },
     "inputWidgets": {},
     "nuid": "5f784438-d453-42a0-b143-8ca24f983a61",
     "showTitle": false,
     "title": ""
    }
   },
   "outputs": [],
   "source": [
    "%sh mkdir /tmp/dump"
   ]
  },
  {
   "cell_type": "code",
   "execution_count": 0,
   "metadata": {
    "application/vnd.databricks.v1+cell": {
     "cellMetadata": {
      "byteLimit": 2048000,
      "rowLimit": 10000
     },
     "inputWidgets": {},
     "nuid": "bd73ef5b-3ed0-4b0e-b178-58689d13beb0",
     "showTitle": false,
     "title": ""
    }
   },
   "outputs": [],
   "source": [
    "INSERT OVERWRITE LOCAL DIRECTORY '/tmp/dump' using csv select 'Moje testowe dane' as testowa_kolumna"
   ]
  },
  {
   "cell_type": "code",
   "execution_count": 0,
   "metadata": {
    "application/vnd.databricks.v1+cell": {
     "cellMetadata": {
      "byteLimit": 2048000,
      "rowLimit": 10000
     },
     "inputWidgets": {},
     "nuid": "cb8ef168-40bd-4de9-9f15-785236f75c52",
     "showTitle": false,
     "title": ""
    }
   },
   "outputs": [],
   "source": [
    "%sh ls /tmp/dump"
   ]
  },
  {
   "cell_type": "code",
   "execution_count": 0,
   "metadata": {
    "application/vnd.databricks.v1+cell": {
     "cellMetadata": {
      "byteLimit": 2048000,
      "rowLimit": 10000
     },
     "inputWidgets": {},
     "nuid": "3bcb2d60-584e-427a-b356-dc71d1bec5b3",
     "showTitle": false,
     "title": ""
    }
   },
   "outputs": [],
   "source": [
    "%sh cat /tmp/dump/*.csv"
   ]
  },
  {
   "cell_type": "markdown",
   "metadata": {
    "application/vnd.databricks.v1+cell": {
     "cellMetadata": {},
     "inputWidgets": {},
     "nuid": "7cfd74e0-0c27-4fd2-8f78-268e105b56ec",
     "showTitle": false,
     "title": ""
    }
   },
   "source": [
    "Zadanie\n",
    "\n",
    "Na bazie tabeli *uam_categories*:\n",
    "1. Stwórz zrzut do katalogu */tmp/orc_categories* na rozproszonym systemie plików w formacie orc\n",
    "2. Stwórz nową bazę o nazwie *moja_baza*\n",
    "3. Stwórz tabelę eksternalną o nazwie *moja_baza.orc_categories*, która będzie odczytywać */tmp/orc_categories*\n",
    "\n",
    "Czy możemy stworzyć tabelę o innej strukturze?\n",
    "Czy możemy odpytać taką tabelę?"
   ]
  },
  {
   "cell_type": "code",
   "execution_count": 0,
   "metadata": {
    "application/vnd.databricks.v1+cell": {
     "cellMetadata": {
      "byteLimit": 2048000,
      "rowLimit": 10000
     },
     "inputWidgets": {},
     "nuid": "590f6575-ccef-4a0b-a318-76f676f84949",
     "showTitle": false,
     "title": ""
    }
   },
   "outputs": [],
   "source": [
    "show create table uam_categories;"
   ]
  },
  {
   "cell_type": "markdown",
   "metadata": {
    "application/vnd.databricks.v1+cell": {
     "cellMetadata": {},
     "inputWidgets": {},
     "nuid": "861cb51d-dc38-4adf-972b-3fd45400abfd",
     "showTitle": false,
     "title": ""
    }
   },
   "source": [
    "Rozwiązanie"
   ]
  },
  {
   "cell_type": "code",
   "execution_count": 0,
   "metadata": {
    "application/vnd.databricks.v1+cell": {
     "cellMetadata": {
      "byteLimit": 2048000,
      "rowLimit": 10000
     },
     "inputWidgets": {},
     "nuid": "8afdbaa0-acf6-4425-a330-116bf8f123a8",
     "showTitle": false,
     "title": ""
    }
   },
   "outputs": [],
   "source": [
    "INSERT\n",
    "  OVERWRITE DIRECTORY '/tmp/orc_categories' stored as orc\n",
    "select\n",
    "  *\n",
    "from\n",
    "  uam_categories;\n",
    "\n",
    "CREATE DATABASE IF NOT EXISTS moja_baza;\n",
    "\n",
    "DROP TABLE IF EXISTS moja_baza.orc_categories;\n",
    "\n",
    "CREATE EXTERNAL TABLE moja_baza.orc_categories (\n",
    "    `category_id` STRING,\n",
    "    `category_level1` STRING,\n",
    "    `category_level2` STRING,\n",
    "    `category_level3` STRING\n",
    "  ) STORED AS ORC LOCATION '/tmp/orc_categories';\n",
    "\n",
    "SELECT\n",
    "  count(1)\n",
    "FROM\n",
    "  moja_baza.orc_categories"
   ]
  },
  {
   "cell_type": "markdown",
   "metadata": {
    "application/vnd.databricks.v1+cell": {
     "cellMetadata": {},
     "inputWidgets": {},
     "nuid": "26f37b59-4e5e-4d38-bdcf-1ddee86353b1",
     "showTitle": false,
     "title": ""
    }
   },
   "source": [
    "Rozwiązanie - co się stanie gdy utworzymy tabelę o innej strukturze"
   ]
  },
  {
   "cell_type": "code",
   "execution_count": 0,
   "metadata": {
    "application/vnd.databricks.v1+cell": {
     "cellMetadata": {
      "byteLimit": 2048000,
      "rowLimit": 10000
     },
     "inputWidgets": {},
     "nuid": "508df24a-a4bf-436e-8090-5f9f8b793a5f",
     "showTitle": false,
     "title": ""
    }
   },
   "outputs": [],
   "source": [
    "drop table if exists moja_baza.orc_categories_2;\n",
    "\n",
    "CREATE EXTERNAL TABLE moja_baza.orc_categories_2 (\n",
    "  `category_id` STRING,\n",
    "  `category_level1` STRING,\n",
    "  `category_level2_xxx` STRING,\n",
    "  `category_level3` STRING\n",
    ") STORED AS ORC LOCATION '/tmp/orc_categories';\n",
    "\n",
    "select * from moja_baza.orc_categories_2;"
   ]
  },
  {
   "cell_type": "code",
   "execution_count": 0,
   "metadata": {
    "application/vnd.databricks.v1+cell": {
     "cellMetadata": {
      "byteLimit": 2048000,
      "rowLimit": 10000
     },
     "inputWidgets": {},
     "nuid": "e79fabf4-97c9-45c5-99e5-8e9556588241",
     "showTitle": false,
     "title": ""
    }
   },
   "outputs": [],
   "source": [
    "DROP TABLE IF EXISTS moja_baza.orc_categories_3;\n",
    "\n",
    "CREATE EXTERNAL TABLE moja_baza.orc_categories_3 (\n",
    "  `category_id` TIMESTAMP, -- <-- Inny typ danych\n",
    "  `category_level1` INT -- <-- Inny typ danych\n",
    ") STORED AS ORC LOCATION '/tmp/orc_categories';\n",
    "\n",
    "select * from moja_baza.orc_categories_3;"
   ]
  },
  {
   "cell_type": "markdown",
   "metadata": {
    "application/vnd.databricks.v1+cell": {
     "cellMetadata": {},
     "inputWidgets": {},
     "nuid": "0bd5c9c5-fcae-45aa-94e8-634f091cc4c3",
     "showTitle": false,
     "title": ""
    }
   },
   "source": [
    "Inne przykłady `CREATE` i `INSERT`\n",
    "\n",
    "\n",
    "Utwórzymy tabele za pomocą poleceń `SELECT` i wykorzystaniem klauzuli `TABLESAMPLE` (służącej do zwracania próbki danych):"
   ]
  },
  {
   "cell_type": "code",
   "execution_count": 0,
   "metadata": {
    "application/vnd.databricks.v1+cell": {
     "cellMetadata": {
      "byteLimit": 2048000,
      "rowLimit": 10000
     },
     "inputWidgets": {},
     "nuid": "a0047a36-62d2-4c31-b8a3-8bd3d30fef57",
     "showTitle": false,
     "title": ""
    }
   },
   "outputs": [],
   "source": [
    "%fs\n",
    "rm -r dbfs:/user/hive/warehouse/uam_orders_sample"
   ]
  },
  {
   "cell_type": "code",
   "execution_count": 0,
   "metadata": {
    "application/vnd.databricks.v1+cell": {
     "cellMetadata": {
      "byteLimit": 2048000,
      "rowLimit": 10000
     },
     "inputWidgets": {},
     "nuid": "17f2acd1-094f-432a-8968-1ca35e2ecb4b",
     "showTitle": false,
     "title": ""
    }
   },
   "outputs": [],
   "source": [
    "create table if not exists uam_orders_sample as\n",
    "select\n",
    "  *\n",
    "from\n",
    "  uam_orders TABLESAMPLE (1 percent);\n",
    "  \n",
    "insert into\n",
    "  uam_orders_sample\n",
    "select\n",
    "  *\n",
    "from\n",
    "  uam_orders TABLESAMPLE (10 rows);"
   ]
  },
  {
   "cell_type": "markdown",
   "metadata": {
    "application/vnd.databricks.v1+cell": {
     "cellMetadata": {},
     "inputWidgets": {},
     "nuid": "bfd9a9db-35e2-432a-b220-35e467436572",
     "showTitle": false,
     "title": ""
    }
   },
   "source": [
    "Możemy też utworzyć tabelę bez danych:"
   ]
  },
  {
   "cell_type": "code",
   "execution_count": 0,
   "metadata": {
    "application/vnd.databricks.v1+cell": {
     "cellMetadata": {
      "byteLimit": 2048000,
      "rowLimit": 10000
     },
     "inputWidgets": {},
     "nuid": "b8a1f022-250a-4388-b839-19cb436495e6",
     "showTitle": false,
     "title": ""
    }
   },
   "outputs": [],
   "source": [
    "drop table if exists moja_baza.orc_categories_sample;\n",
    "create table if not exists moja_baza.orc_categories_sample like moja_baza.orc_categories;"
   ]
  },
  {
   "cell_type": "markdown",
   "metadata": {
    "application/vnd.databricks.v1+cell": {
     "cellMetadata": {},
     "inputWidgets": {},
     "nuid": "d0063d4d-0f3f-47f2-aab6-432c053d87b1",
     "showTitle": false,
     "title": ""
    }
   },
   "source": [
    "# Operacje na zbiorach\n",
    "\n",
    "\n",
    "Przeanalizujmy działania na zbiorach na przykładzie dwóch zapytań (odpowiednio liczby naturalne parzyste mniejsze od 10 i liczby naturalne mniejsze od 10). Wyjaśnienia działania funkcji `RANGE` znajduje się w kolejnej komórce."
   ]
  },
  {
   "cell_type": "code",
   "execution_count": 0,
   "metadata": {
    "application/vnd.databricks.v1+cell": {
     "cellMetadata": {
      "byteLimit": 2048000,
      "rowLimit": 10000
     },
     "inputWidgets": {},
     "nuid": "3da99158-1c2f-4a3f-ae38-295aa9308c73",
     "showTitle": false,
     "title": ""
    }
   },
   "outputs": [],
   "source": [
    "select\n",
    "  *\n",
    "from\n",
    "  range(0, 10, 2);\n"
   ]
  },
  {
   "cell_type": "code",
   "execution_count": 0,
   "metadata": {
    "application/vnd.databricks.v1+cell": {
     "cellMetadata": {
      "byteLimit": 2048000,
      "rowLimit": 10000
     },
     "inputWidgets": {},
     "nuid": "04456d64-194e-4cf1-8537-45cdb2a787bd",
     "showTitle": false,
     "title": ""
    }
   },
   "outputs": [],
   "source": [
    "select\n",
    "  *\n",
    "from\n",
    "  range(10);"
   ]
  },
  {
   "cell_type": "markdown",
   "metadata": {
    "application/vnd.databricks.v1+cell": {
     "cellMetadata": {},
     "inputWidgets": {},
     "nuid": "cc1095c3-c475-4d43-831f-57d7aac4cbb7",
     "showTitle": false,
     "title": ""
    }
   },
   "source": [
    "Funkcja tabelaryczna `RANGE` służy do generowania tabel jednokolumnowych, gdzie kolejne wiersze są elementami ciągu arytmetycznego:\n",
    "\n",
    "Funkcja obsługuje następujące parametry wejściowe: \n",
    "\n",
    "1. (end: long)\n",
    "2. (start: long, end: long)\n",
    "3. (start: long, end: long, step: long)\n",
    "4. (start: long, end: long, step: long, numPartitions: integer)\n",
    "\n",
    "\n",
    "start - 1. element ciągu\n",
    "\n",
    "end - 2. element ostatni\n",
    "\n",
    "step - określa o ile mają się zwiększać kolejne wiersze\n",
    "\n",
    "numPartitions - liczba partycji"
   ]
  },
  {
   "cell_type": "markdown",
   "metadata": {
    "application/vnd.databricks.v1+cell": {
     "cellMetadata": {},
     "inputWidgets": {},
     "nuid": "6f3e9f6f-6056-4ec5-bf8c-2790c47cbd8b",
     "showTitle": false,
     "title": ""
    }
   },
   "source": [
    "Sumę zbiorów otrzymamy (może zawierać duplikaty):"
   ]
  },
  {
   "cell_type": "code",
   "execution_count": 0,
   "metadata": {
    "application/vnd.databricks.v1+cell": {
     "cellMetadata": {
      "byteLimit": 2048000,
      "rowLimit": 10000
     },
     "inputWidgets": {},
     "nuid": "f2466401-7d43-4b58-b257-ec5afc9a7556",
     "showTitle": false,
     "title": ""
    }
   },
   "outputs": [],
   "source": [
    "select\n",
    "  *\n",
    "from\n",
    "  range(0, 10, 2)\n",
    "union all\n",
    "select\n",
    "  *\n",
    "from\n",
    "  range(10);"
   ]
  },
  {
   "cell_type": "markdown",
   "metadata": {
    "application/vnd.databricks.v1+cell": {
     "cellMetadata": {},
     "inputWidgets": {},
     "nuid": "112f7c29-a8e9-4279-bacd-2d02371bd4f1",
     "showTitle": false,
     "title": ""
    }
   },
   "source": [
    "Część wspólna zbiorów:"
   ]
  },
  {
   "cell_type": "code",
   "execution_count": 0,
   "metadata": {
    "application/vnd.databricks.v1+cell": {
     "cellMetadata": {
      "byteLimit": 2048000,
      "rowLimit": 10000
     },
     "inputWidgets": {},
     "nuid": "d01a97bd-036d-43ef-ad14-4046e7207c7e",
     "showTitle": false,
     "title": ""
    }
   },
   "outputs": [],
   "source": [
    "select\n",
    "  *\n",
    "from\n",
    "  range(0, 10, 2)\n",
    "intersect\n",
    "select\n",
    "  *\n",
    "from\n",
    "  range(10);"
   ]
  },
  {
   "cell_type": "markdown",
   "metadata": {
    "application/vnd.databricks.v1+cell": {
     "cellMetadata": {},
     "inputWidgets": {},
     "nuid": "3ef4e2d3-2fd5-4e47-8133-45a89d4b188b",
     "showTitle": false,
     "title": ""
    }
   },
   "source": [
    "Różnica zbiorów:"
   ]
  },
  {
   "cell_type": "code",
   "execution_count": 0,
   "metadata": {
    "application/vnd.databricks.v1+cell": {
     "cellMetadata": {
      "byteLimit": 2048000,
      "rowLimit": 10000
     },
     "inputWidgets": {},
     "nuid": "32a0ebe6-fcce-470f-82e6-49f92099a734",
     "showTitle": false,
     "title": ""
    }
   },
   "outputs": [],
   "source": [
    "select\n",
    "  *\n",
    "from\n",
    "  range(10) \n",
    "  minus\n",
    "select\n",
    "  *\n",
    "from\n",
    "  range(0, 10, 2);"
   ]
  },
  {
   "cell_type": "markdown",
   "metadata": {
    "application/vnd.databricks.v1+cell": {
     "cellMetadata": {},
     "inputWidgets": {},
     "nuid": "f10018ee-dbba-47ff-9d92-b8e1f6caa1f2",
     "showTitle": false,
     "title": ""
    }
   },
   "source": [
    "Zadanie\n",
    "\n",
    "Znajdźmy oferty, które nie znalazły nabywcy (identyfikatory) korzystając z operacji na zbiorach."
   ]
  },
  {
   "cell_type": "code",
   "execution_count": 0,
   "metadata": {
    "application/vnd.databricks.v1+cell": {
     "cellMetadata": {},
     "inputWidgets": {},
     "nuid": "2c2d6cc8-36f8-4adc-b5c2-af77dffaf528",
     "showTitle": false,
     "title": ""
    }
   },
   "outputs": [],
   "source": []
  },
  {
   "cell_type": "markdown",
   "metadata": {
    "application/vnd.databricks.v1+cell": {
     "cellMetadata": {},
     "inputWidgets": {},
     "nuid": "0b224664-dcaf-437f-80c3-b42c37e2f0b4",
     "showTitle": false,
     "title": ""
    }
   },
   "source": [
    "Rozwiązanie jest poniżej:"
   ]
  },
  {
   "cell_type": "code",
   "execution_count": 0,
   "metadata": {
    "application/vnd.databricks.v1+cell": {
     "cellMetadata": {
      "byteLimit": 2048000,
      "rowLimit": 10000
     },
     "inputWidgets": {},
     "nuid": "3cfab18b-9dd1-434c-9e0d-1d92aec295d4",
     "showTitle": false,
     "title": ""
    }
   },
   "outputs": [],
   "source": [
    "select\n",
    "  offer_id\n",
    "from\n",
    "  uam_offers minus\n",
    "select\n",
    "  offer_id\n",
    "from\n",
    "  uam_orders;"
   ]
  }
 ],
 "metadata": {
  "application/vnd.databricks.v1+notebook": {
   "dashboards": [],
   "language": "sql",
   "notebookMetadata": {
    "mostRecentlyExecutedCommandWithImplicitDF": {
     "commandId": 4401724748281807,
     "dataframes": [
      "_sqldf"
     ]
    },
    "pythonIndentUnit": 2
   },
   "notebookName": "Spark SQL - workshop",
   "notebookOrigID": 3781107130096170,
   "widgets": {}
  }
 },
 "nbformat": 4,
 "nbformat_minor": 0
}
